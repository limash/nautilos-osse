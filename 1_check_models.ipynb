{
 "cells": [
  {
   "cell_type": "code",
   "execution_count": null,
   "metadata": {},
   "outputs": [],
   "source": [
    "import xarray as xr\n",
    "\n",
    "from arguments import (\n",
    "    ArgumentsSpring2017,\n",
    "    ArgumentsSpring2018\n",
    ")"
   ]
  },
  {
   "cell_type": "markdown",
   "metadata": {},
   "source": [
    "Check the output of different Handagerfjord models before data assimilation.\n",
    "There are 3 models:\n",
    "1) ROHO800ORIGINAL - Phils ROHO800. \n",
    "This version is coupled with ERSEM and was validated by Phil.\n",
    "2) ROHO800 - it was derived from Phils version and has a very similar configuration for the NLM.\n",
    "But it uses much later version of ROMS to launch data assimilation.\n",
    "3) ROHO160 - the nature run, it was configured to be as close as possible to the Phils ROHO800ORIGINAL run, but the forcing is different.\n",
    "ROMS version is similar to ROHO800;"
   ]
  },
  {
   "cell_type": "markdown",
   "metadata": {},
   "source": [
    "The WP8 and WP9 descriptions suggest to do OSSE in the spring.\n",
    "The first week of April, 2017."
   ]
  },
  {
   "cell_type": "code",
   "execution_count": null,
   "metadata": {},
   "outputs": [],
   "source": [
    "args = ArgumentsSpring2017()"
   ]
  },
  {
   "cell_type": "code",
   "execution_count": null,
   "metadata": {},
   "outputs": [],
   "source": [
    "time_slice = slice(args.start_time, args.end_time)\n",
    "ds_roho800_orig = xr.open_mfdataset(args.roho800orig_files).sel(ocean_time=time_slice)\n",
    "ds_roho800 = xr.open_mfdataset(args.roho800_files).sel(ocean_time=time_slice)\n",
    "ds_roho160 = xr.open_mfdataset(args.roho160_files).sel(ocean_time=time_slice)"
   ]
  },
  {
   "cell_type": "code",
   "execution_count": null,
   "metadata": {},
   "outputs": [],
   "source": [
    "variable, ocean_time_i, s_rho_i = 'temp', 0, -1\n",
    "vmin, vmax = 0, 10"
   ]
  },
  {
   "cell_type": "code",
   "execution_count": null,
   "metadata": {},
   "outputs": [],
   "source": [
    "ds_roho800_orig[variable].isel(ocean_time=ocean_time_i, s_rho=s_rho_i).plot.pcolormesh(\n",
    "    x=\"lon_rho\", y=\"lat_rho\", vmin=vmin, vmax=vmax, figsize=(20, 10), cmap='coolwarm'\n",
    ")"
   ]
  },
  {
   "cell_type": "code",
   "execution_count": null,
   "metadata": {},
   "outputs": [],
   "source": [
    "ds_roho800[variable].isel(ocean_time=ocean_time_i, s_rho=s_rho_i).plot.pcolormesh(\n",
    "    x=\"lon_rho\", y=\"lat_rho\", vmin=vmin, vmax=vmax, figsize=(20, 10), cmap='coolwarm'\n",
    ")"
   ]
  },
  {
   "cell_type": "code",
   "execution_count": null,
   "metadata": {},
   "outputs": [],
   "source": [
    "ds_roho160[variable].isel(ocean_time=ocean_time_i, s_rho=s_rho_i).plot.pcolormesh(\n",
    "    x=\"lon_rho\", y=\"lat_rho\", vmin=vmin, vmax=vmax, figsize=(20, 10), cmap='coolwarm'\n",
    ")"
   ]
  },
  {
   "cell_type": "code",
   "execution_count": null,
   "metadata": {},
   "outputs": [],
   "source": []
  }
 ],
 "metadata": {
  "kernelspec": {
   "display_name": "ocean",
   "language": "python",
   "name": "python3"
  },
  "language_info": {
   "codemirror_mode": {
    "name": "ipython",
    "version": 3
   },
   "file_extension": ".py",
   "mimetype": "text/x-python",
   "name": "python",
   "nbconvert_exporter": "python",
   "pygments_lexer": "ipython3",
   "version": "3.10.9"
  },
  "orig_nbformat": 4
 },
 "nbformat": 4,
 "nbformat_minor": 2
}
