{
 "cells": [
  {
   "cell_type": "code",
   "execution_count": null,
   "metadata": {},
   "outputs": [],
   "source": [
    "import os\n",
    "from pathlib import Path\n",
    "\n",
    "import matplotlib.pyplot as plt\n",
    "import numpy as np\n",
    "import seaborn as sns\n",
    "import xarray as xr\n",
    "\n",
    "sns.set_style(\"darkgrid\")"
   ]
  },
  {
   "cell_type": "markdown",
   "metadata": {},
   "source": [
    "I mount `/cluster/projects/nn9297k/shmiak/` to $HOME/fram"
   ]
  },
  {
   "cell_type": "code",
   "execution_count": null,
   "metadata": {},
   "outputs": [],
   "source": [
    "datapath_orig_roho800 = [os.path.join(Path.home(), x) for x in [\n",
    "    \"fram/roho800_data/output_data/orig_with_phys_from_forward/y2017/5_iter/roho800_his_0001.nc\",\n",
    "    \"fram/roho800_data/output_data/orig_with_phys_from_forward/y2017/6_iter/roho800_his_0001.nc\",\n",
    "    \"fram/roho800_data/output_data/orig_with_phys_from_forward/y2017/7_iter/roho800_his_0001.nc\",\n",
    "    \"fram/roho800_data/output_data/orig_with_phys_from_forward/y2017/8_iter/roho800_his_0001.nc\",\n",
    "    \"fram/roho800_data/output_data/orig_with_phys_from_forward/y2017/9_iter/roho800_his_0001.nc\",\n",
    "    \"fram/roho800_data/output_data/orig_with_phys_from_forward/y2017/10_iter/roho800_his_0001.nc\",\n",
    "    \"fram/roho800_data/output_data/orig_with_phys_from_forward/y2017/11_iter/roho800_his_0001.nc\",\n",
    "    \"fram/roho800_data/output_data/orig_with_phys_from_forward/y2017/12_iter/roho800_his_0001.nc\",\n",
    "    \"fram/roho800_data/output_data/orig_with_phys_from_forward/y2017/13_iter/roho800_his_0001.nc\",\n",
    "    \"fram/roho800_data/output_data/orig_with_phys_from_forward/y2017/14_iter/roho800_his_0001.nc\",\n",
    "    \"fram/roho800_data/output_data/orig_with_phys_from_forward/y2017/15_iter/roho800_his_0001.nc\",\n",
    "]] \n",
    "datapath_orig_roho160 = [os.path.join(Path.home(), x) for x in [\n",
    "    \"fram/roho800_data/output_data/orig_with_phys_from_roho160/2017_3_months_per_3_days/5_iter/roho800_his_0001.nc\",\n",
    "    \"fram/roho800_data/output_data/orig_with_phys_from_roho160/2017_3_months_per_3_days/6_iter/roho800_his_0001.nc\",\n",
    "    \"fram/roho800_data/output_data/orig_with_phys_from_roho160/2017_3_months_per_3_days/7_iter/roho800_his_0001.nc\",\n",
    "    \"fram/roho800_data/output_data/orig_with_phys_from_roho160/2017_3_months_per_3_days/8_iter/roho800_his_0001.nc\",\n",
    "    \"fram/roho800_data/output_data/orig_with_phys_from_roho160/2017_3_months_per_3_days/9_iter/roho800_his_0001.nc\",\n",
    "    \"fram/roho800_data/output_data/orig_with_phys_from_roho160/2017_3_months_per_3_days/10_iter/roho800_his_0001.nc\",\n",
    "    \"fram/roho800_data/output_data/orig_with_phys_from_roho160/2017_3_months_per_3_days/11_iter/roho800_his_0001.nc\",\n",
    "    \"fram/roho800_data/output_data/orig_with_phys_from_roho160/2017_3_months_per_3_days/12_iter/roho800_his_0001.nc\",\n",
    "    \"fram/roho800_data/output_data/orig_with_phys_from_roho160/2017_3_months_per_3_days/13_iter/roho800_his_0001.nc\",\n",
    "    \"fram/roho800_data/output_data/orig_with_phys_from_roho160/2017_3_months_per_3_days/14_iter/roho800_his_0001.nc\",\n",
    "    \"fram/roho800_data/output_data/orig_with_phys_from_roho160/2017_3_months_per_3_days/15_iter/roho800_his_0001.nc\",\n",
    "]]\n",
    "datapath_4dvar_pre = [os.path.join(Path.home(), x) for x in [\n",
    "    \"fram/roho800_data/output_data/4dvar/prenautilos_2017_10_inner_loops_new_init/0_iter/wc13_fwd_outer1_0001.nc\",\n",
    "    \"fram/roho800_data/output_data/4dvar/prenautilos_2017_10_inner_loops_new_init/1_iter/wc13_fwd_outer1_0001.nc\",\n",
    "    \"fram/roho800_data/output_data/4dvar/prenautilos_2017_10_inner_loops_new_init/2_iter/wc13_fwd_outer1_0001.nc\",\n",
    "    \"fram/roho800_data/output_data/4dvar/prenautilos_2017_10_inner_loops_new_init/3_iter/wc13_fwd_outer1_0001.nc\",\n",
    "    \"fram/roho800_data/output_data/4dvar/prenautilos_2017_10_inner_loops_new_init/4_iter/wc13_fwd_outer1_0001.nc\",\n",
    "]]\n",
    "datapath_4dvar_post = [os.path.join(Path.home(), x) for x in [\n",
    "    \"fram/roho800_data/output_data/4dvar/postnautilos_2017_farms_10_inner_loops_new_init/0_iter/wc13_fwd_outer1_0001.nc\",\n",
    "    \"fram/roho800_data/output_data/4dvar/postnautilos_2017_farms_10_inner_loops_new_init/1_iter/wc13_fwd_outer1_0001.nc\",\n",
    "    \"fram/roho800_data/output_data/4dvar/postnautilos_2017_farms_10_inner_loops_new_init/2_iter/wc13_fwd_outer1_0001.nc\",\n",
    "    \"fram/roho800_data/output_data/4dvar/postnautilos_2017_farms_10_inner_loops_new_init/3_iter/wc13_fwd_outer1_0001.nc\",\n",
    "    \"fram/roho800_data/output_data/4dvar/postnautilos_2017_farms_10_inner_loops_new_init/4_iter/wc13_fwd_outer1_0001.nc\",\n",
    "]]"
   ]
  },
  {
   "cell_type": "code",
   "execution_count": null,
   "metadata": {},
   "outputs": [],
   "source": [
    "def keep_unique_times(data: xr.DataArray):\n",
    "    \"\"\"\n",
    "    ROMS changes the initial values on startup and saves them.\n",
    "    -> There are several similar data sets with slightly different data \n",
    "    on successive runs.\n",
    "    This function keeps only the first date occurrence and removes the second. \n",
    "    \"\"\"\n",
    "    time_index = data['ocean_time'].to_index()\n",
    "    is_unique = ~time_index.duplicated(keep='first')\n",
    "    indices_unique = np.where(is_unique)[0]\n",
    "    return data.isel(ocean_time=indices_unique)"
   ]
  },
  {
   "cell_type": "code",
   "execution_count": null,
   "metadata": {},
   "outputs": [],
   "source": [
    "baseline = keep_unique_times(xr.open_mfdataset(datapath_orig_roho800).temp)"
   ]
  },
  {
   "cell_type": "code",
   "execution_count": null,
   "metadata": {},
   "outputs": [],
   "source": [
    "nature = keep_unique_times(xr.open_mfdataset(datapath_orig_roho160).temp)"
   ]
  },
  {
   "cell_type": "code",
   "execution_count": null,
   "metadata": {},
   "outputs": [],
   "source": [
    "darun_pre = keep_unique_times(xr.open_mfdataset(datapath_4dvar_pre).temp)\n",
    "darun_pre = darun_pre.sel(ocean_time=nature.ocean_time)"
   ]
  },
  {
   "cell_type": "code",
   "execution_count": null,
   "metadata": {},
   "outputs": [],
   "source": [
    "darun_post = keep_unique_times(xr.open_mfdataset(datapath_4dvar_post).temp)\n",
    "darun_post = darun_post.sel(ocean_time=nature.ocean_time)"
   ]
  },
  {
   "cell_type": "code",
   "execution_count": null,
   "metadata": {},
   "outputs": [],
   "source": [
    "ocean_time = 0\n",
    "vmin, vmax = 0, 10"
   ]
  },
  {
   "cell_type": "code",
   "execution_count": null,
   "metadata": {},
   "outputs": [],
   "source": [
    "baseline.isel(ocean_time=ocean_time, s_rho=-1).plot(vmin=vmin, vmax=vmax, figsize=(14, 7))"
   ]
  },
  {
   "cell_type": "code",
   "execution_count": null,
   "metadata": {},
   "outputs": [],
   "source": [
    "nature.isel(ocean_time=ocean_time, s_rho=-1).plot(vmin=vmin, vmax=vmax, figsize=(14, 7))"
   ]
  },
  {
   "cell_type": "code",
   "execution_count": null,
   "metadata": {},
   "outputs": [],
   "source": [
    "darun_pre.isel(ocean_time=ocean_time, s_rho=-1).plot(vmin=vmin, vmax=vmax, figsize=(14, 7))"
   ]
  },
  {
   "cell_type": "code",
   "execution_count": null,
   "metadata": {},
   "outputs": [],
   "source": [
    "darun_post.isel(ocean_time=ocean_time, s_rho=-1).plot(vmin=vmin, vmax=vmax, figsize=(14, 7))"
   ]
  },
  {
   "cell_type": "code",
   "execution_count": null,
   "metadata": {},
   "outputs": [],
   "source": [
    "baseline.shape"
   ]
  },
  {
   "cell_type": "code",
   "execution_count": null,
   "metadata": {},
   "outputs": [],
   "source": [
    "nature.shape"
   ]
  },
  {
   "cell_type": "code",
   "execution_count": null,
   "metadata": {},
   "outputs": [],
   "source": [
    "darun_pre.shape"
   ]
  },
  {
   "cell_type": "code",
   "execution_count": null,
   "metadata": {},
   "outputs": [],
   "source": [
    "darun_post.shape"
   ]
  },
  {
   "cell_type": "code",
   "execution_count": null,
   "metadata": {},
   "outputs": [],
   "source": [
    "def rmsd(first, second):\n",
    "    first = first[np.isfinite(first)].flatten()\n",
    "    second = second[np.isfinite(second)].flatten()\n",
    "    assert first.size == second.size\n",
    "    return np.sqrt(np.sum(np.square(first - second)) / first.size)"
   ]
  },
  {
   "cell_type": "code",
   "execution_count": null,
   "metadata": {},
   "outputs": [],
   "source": [
    "xi_slice = slice(100, None)\n",
    "eta_slice = slice(50, 90)"
   ]
  },
  {
   "cell_type": "code",
   "execution_count": null,
   "metadata": {},
   "outputs": [],
   "source": [
    "rmsd_spatial_before = np.zeros(baseline.shape[0])\n",
    "rmsd_spatial_pre = np.zeros(baseline.shape[0])\n",
    "rmsd_spatial_post = np.zeros(baseline.shape[0])"
   ]
  },
  {
   "cell_type": "code",
   "execution_count": null,
   "metadata": {},
   "outputs": [],
   "source": [
    "for i in range(baseline.shape[0]):\n",
    "    rmsd_spatial_before[i] = rmsd(\n",
    "        nature[i, -1, eta_slice, xi_slice].values, baseline[i, -1, eta_slice, xi_slice].values\n",
    "    )\n",
    "    rmsd_spatial_pre[i] = rmsd(\n",
    "        nature[i, -1, eta_slice, xi_slice].values, darun_pre[i, -1, eta_slice, xi_slice].values\n",
    "    )\n",
    "    rmsd_spatial_post[i] = rmsd(\n",
    "        nature[i, -1, eta_slice, xi_slice].values, darun_post[i, -1, eta_slice, xi_slice].values\n",
    "    )"
   ]
  },
  {
   "cell_type": "code",
   "execution_count": null,
   "metadata": {},
   "outputs": [],
   "source": [
    "na_time = baseline.ocean_time.values"
   ]
  },
  {
   "cell_type": "code",
   "execution_count": null,
   "metadata": {},
   "outputs": [],
   "source": [
    "fig, ax = plt.subplots(figsize=(10, 2))\n",
    "ax.plot(na_time, rmsd_spatial_before, label=\"before da\")\n",
    "ax.plot(na_time, rmsd_spatial_pre, label=\"pre-Nautilos da\")\n",
    "ax.plot(na_time, rmsd_spatial_post, label=\"post-Nautilos da\")\n",
    "ax.set_title(\"Spatially Integrated RMSD\")\n",
    "ax.legend()\n",
    "fig.tight_layout()"
   ]
  },
  {
   "cell_type": "code",
   "execution_count": null,
   "metadata": {},
   "outputs": [],
   "source": []
  }
 ],
 "metadata": {
  "kernelspec": {
   "display_name": "ocean",
   "language": "python",
   "name": "python3"
  },
  "language_info": {
   "codemirror_mode": {
    "name": "ipython",
    "version": 3
   },
   "file_extension": ".py",
   "mimetype": "text/x-python",
   "name": "python",
   "nbconvert_exporter": "python",
   "pygments_lexer": "ipython3",
   "version": "3.12.3"
  },
  "orig_nbformat": 4
 },
 "nbformat": 4,
 "nbformat_minor": 2
}
