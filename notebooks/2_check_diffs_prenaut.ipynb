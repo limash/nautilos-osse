{
 "cells": [
  {
   "cell_type": "code",
   "execution_count": null,
   "metadata": {},
   "outputs": [],
   "source": [
    "import glob\n",
    "\n",
    "import numpy as np\n",
    "import xarray as xr\n",
    "import matplotlib.pyplot as plt"
   ]
  },
  {
   "cell_type": "markdown",
   "metadata": {},
   "source": [
    "1) ROHO800 forward run before data assimilation.\n",
    "2) ROHO800 forward after data assimilation. "
   ]
  },
  {
   "cell_type": "code",
   "execution_count": null,
   "metadata": {},
   "outputs": [],
   "source": [
    "roho800_f_forward = \"/cluster/projects/nn9297k/shmiak/roho800_data/output_data/4dvar/4st_spring2018/*fwd_outer0*.nc\"\n",
    "roho800_f_da = \"/cluster/projects/nn9297k/shmiak/roho800_data/output_data/4dvar/4st_spring2018/*fwd_outer1*.nc\""
   ]
  },
  {
   "cell_type": "code",
   "execution_count": null,
   "metadata": {},
   "outputs": [],
   "source": [
    "roho800_ncs_forward = sorted(glob.glob(roho800_f_forward))\n",
    "roho800_ncs_da = sorted(glob.glob(roho800_f_da))"
   ]
  },
  {
   "cell_type": "markdown",
   "metadata": {},
   "source": [
    "Assimilation were performed for one week using observations from 4 stations in the Hardangerfjord."
   ]
  },
  {
   "cell_type": "code",
   "execution_count": null,
   "metadata": {},
   "outputs": [],
   "source": [
    "time_slice = slice('2018-04-01', '2018-04-07')"
   ]
  },
  {
   "cell_type": "code",
   "execution_count": null,
   "metadata": {},
   "outputs": [],
   "source": [
    "ds_roho800_forward = xr.open_dataset(roho800_ncs_forward[0]).sel(ocean_time=time_slice)\n",
    "ds_roho800_da = xr.open_dataset(roho800_ncs_da[0]).sel(ocean_time=time_slice)"
   ]
  },
  {
   "cell_type": "markdown",
   "metadata": {},
   "source": [
    "Check the output for the last time step."
   ]
  },
  {
   "cell_type": "code",
   "execution_count": null,
   "metadata": {},
   "outputs": [],
   "source": [
    "variable, ocean_time_i, s_rho_i = 'temp', -1, -1\n",
    "vmin, vmax = 0, 10"
   ]
  },
  {
   "cell_type": "code",
   "execution_count": null,
   "metadata": {},
   "outputs": [],
   "source": [
    "ds_roho800_forward[variable].isel(ocean_time=ocean_time_i, s_rho=s_rho_i).plot.pcolormesh(\n",
    "    x=\"lon_rho\", y=\"lat_rho\", vmin=vmin, vmax=vmax, figsize=(14, 7), cmap='coolwarm'\n",
    ")"
   ]
  },
  {
   "cell_type": "code",
   "execution_count": null,
   "metadata": {},
   "outputs": [],
   "source": [
    "ds_roho800_da[variable].isel(ocean_time=ocean_time_i, s_rho=s_rho_i).plot.pcolormesh(\n",
    "    x=\"lon_rho\", y=\"lat_rho\", vmin=vmin, vmax=vmax, figsize=(14, 7), cmap='coolwarm'\n",
    ")"
   ]
  },
  {
   "cell_type": "markdown",
   "metadata": {},
   "source": [
    "Compare the temperature differences for different dates."
   ]
  },
  {
   "cell_type": "code",
   "execution_count": null,
   "metadata": {},
   "outputs": [],
   "source": [
    "day_time = '2018-04-04 12:00:00'"
   ]
  },
  {
   "cell_type": "code",
   "execution_count": null,
   "metadata": {},
   "outputs": [],
   "source": [
    "lon_rho = ds_roho800_da['lon_rho'].values\n",
    "lat_rho = ds_roho800_da['lat_rho'].values"
   ]
  },
  {
   "cell_type": "code",
   "execution_count": null,
   "metadata": {},
   "outputs": [],
   "source": [
    "temp_diff = (\n",
    "    ds_roho800_da.sel(ocean_time=day_time).temp.values -\n",
    "    ds_roho800_forward.sel(ocean_time=day_time).temp.values)"
   ]
  },
  {
   "cell_type": "code",
   "execution_count": null,
   "metadata": {},
   "outputs": [],
   "source": [
    "temp_levs = np.linspace(-3, 3, 10)\n",
    "fig, ax = plt.subplots(figsize=(14, 7))\n",
    "cf = ax.contourf(lon_rho, lat_rho, temp_diff[-1, :, :], cmap='coolwarm', levels=temp_levs)\n",
    "cs = ax.contour(lon_rho, lat_rho, temp_diff[-1, :, :], levels=temp_levs)\n",
    "ax.clabel(cs, cs.levels)\n",
    "ax.set_title(f\"Temperature difference {day_time}\")\n",
    "fig.colorbar(cf)"
   ]
  },
  {
   "cell_type": "code",
   "execution_count": null,
   "metadata": {},
   "outputs": [],
   "source": [
    "foo = temp_diff[-1, :, :]"
   ]
  },
  {
   "cell_type": "code",
   "execution_count": null,
   "metadata": {},
   "outputs": [],
   "source": []
  }
 ],
 "metadata": {
  "kernelspec": {
   "display_name": "ocean",
   "language": "python",
   "name": "python3"
  },
  "language_info": {
   "codemirror_mode": {
    "name": "ipython",
    "version": 3
   },
   "file_extension": ".py",
   "mimetype": "text/x-python",
   "name": "python",
   "nbconvert_exporter": "python",
   "pygments_lexer": "ipython3",
   "version": "3.12.3"
  },
  "orig_nbformat": 4
 },
 "nbformat": 4,
 "nbformat_minor": 2
}
