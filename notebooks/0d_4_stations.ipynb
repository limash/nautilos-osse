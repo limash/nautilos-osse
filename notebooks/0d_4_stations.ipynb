{
 "cells": [
  {
   "cell_type": "code",
   "execution_count": null,
   "metadata": {},
   "outputs": [],
   "source": [
    "import numpy as np\n",
    "import xarray as xr\n",
    "\n",
    "from nautilos_osse.arguments import ArgumentsSpring2017"
   ]
  },
  {
   "cell_type": "code",
   "execution_count": null,
   "metadata": {},
   "outputs": [],
   "source": [
    "args = ArgumentsSpring2017()"
   ]
  },
  {
   "cell_type": "code",
   "execution_count": null,
   "metadata": {},
   "outputs": [],
   "source": [
    "time_slice = slice(args.start_time, args.end_time)\n",
    "ds_stations = xr.open_dataset(args.stations).sel(ocean_time=time_slice)\n",
    "ds_grid = xr.open_dataset(args.input_grid_file)"
   ]
  },
  {
   "cell_type": "markdown",
   "metadata": {},
   "source": [
    "### Check the coordinates of the observation stations"
   ]
  },
  {
   "cell_type": "code",
   "execution_count": null,
   "metadata": {},
   "outputs": [],
   "source": [
    "st_labels = ['VT53', 'VT70', 'VT74', 'VT69']\n",
    "st_n_point = [1, 3, 4, 9]\n",
    "st_lons, st_lats = np.zeros(ds_stations.station.shape), np.zeros(ds_stations.station.shape)\n",
    "for i, station in enumerate(ds_stations.station):\n",
    "    st_lons[i] = station.lon_rho.values\n",
    "    st_lats[i] = station.lat_rho.values"
   ]
  },
  {
   "cell_type": "code",
   "execution_count": null,
   "metadata": {},
   "outputs": [],
   "source": [
    "xi_slice = slice(150, 300)\n",
    "eta_slice = slice(50, 150)"
   ]
  },
  {
   "cell_type": "code",
   "execution_count": null,
   "metadata": {},
   "outputs": [],
   "source": [
    "p = ds_grid.mask_rho.plot(\n",
    "    x=\"lon_rho\", y=\"lat_rho\", figsize=(14, 7), cmap='GnBu'\n",
    "    )\n",
    "p.axes.scatter(x=st_lons[st_n_point], y=st_lats[st_n_point], color='red')\n",
    "for i, label in enumerate(st_labels):\n",
    "    p.axes.annotate(label, (st_lons[st_n_point][i], st_lats[st_n_point][i]), color='red')"
   ]
  },
  {
   "cell_type": "code",
   "execution_count": null,
   "metadata": {},
   "outputs": [],
   "source": [
    "p = ds_grid.mask_rho[eta_slice, xi_slice].plot(\n",
    "    x=\"lon_rho\", y=\"lat_rho\", figsize=(14, 7), cmap='GnBu'\n",
    "    )\n",
    "p.axes.scatter(x=st_lons[st_n_point], y=st_lats[st_n_point], color='red')\n",
    "for i, label in enumerate(st_labels):\n",
    "    p.axes.annotate(label, (st_lons[st_n_point][i], st_lats[st_n_point][i]), color='red')"
   ]
  },
  {
   "cell_type": "code",
   "execution_count": null,
   "metadata": {},
   "outputs": [],
   "source": []
  }
 ],
 "metadata": {
  "kernelspec": {
   "display_name": "ocean",
   "language": "python",
   "name": "python3"
  },
  "language_info": {
   "codemirror_mode": {
    "name": "ipython",
    "version": 3
   },
   "file_extension": ".py",
   "mimetype": "text/x-python",
   "name": "python",
   "nbconvert_exporter": "python",
   "pygments_lexer": "ipython3",
   "version": "3.12.5"
  }
 },
 "nbformat": 4,
 "nbformat_minor": 2
}
