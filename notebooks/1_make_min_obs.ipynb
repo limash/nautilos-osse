{
 "cells": [
  {
   "cell_type": "markdown",
   "metadata": {},
   "source": [
    "## Prepare a ROMS I4DVar observation file from a ROMS output file"
   ]
  },
  {
   "cell_type": "code",
   "execution_count": null,
   "metadata": {},
   "outputs": [],
   "source": [
    "import os\n",
    "from pathlib import Path\n",
    "\n",
    "import matplotlib.pyplot as plt\n",
    "import numpy as np\n",
    "import xarray as xr\n",
    "\n",
    "from nautilos_osse.arguments import ArgumentsSpring2017"
   ]
  },
  {
   "cell_type": "code",
   "execution_count": null,
   "metadata": {},
   "outputs": [],
   "source": [
    "variable = \"salt\"\n",
    "args = ArgumentsSpring2017()\n",
    "args.output_obs_file = os.path.join(\n",
    "    Path.home(), f\"data_ROHO/obs_i4dvar_min_{variable}_2017-02-01_to_2017-03-15.nc\"\n",
    ")\n",
    "data_type = {\n",
    "    \"temp\": 6,\n",
    "    \"salt\": 7,\n",
    "}"
   ]
  },
  {
   "cell_type": "markdown",
   "metadata": {},
   "source": [
    "Load necessary nc files to datasets."
   ]
  },
  {
   "cell_type": "code",
   "execution_count": null,
   "metadata": {},
   "outputs": [],
   "source": [
    "time_slice = slice(args.start_time, args.end_time)\n",
    "ds_data = xr.open_mfdataset(list(args.nature_files_2017)).sel(ocean_time=time_slice)\n",
    "ds_grid = xr.open_dataset(args.input_grid_file)\n",
    "ds_wc13_obs = xr.open_dataset(args.wc13_obs_file)"
   ]
  },
  {
   "cell_type": "code",
   "execution_count": null,
   "metadata": {},
   "outputs": [],
   "source": [
    "ds_grid.mask_rho.plot()"
   ]
  },
  {
   "cell_type": "code",
   "execution_count": null,
   "metadata": {},
   "outputs": [],
   "source": [
    "ds_data"
   ]
  },
  {
   "cell_type": "markdown",
   "metadata": {},
   "source": [
    "### Get the observation station"
   ]
  },
  {
   "cell_type": "code",
   "execution_count": null,
   "metadata": {},
   "outputs": [],
   "source": [
    "xi_rho = 150\n",
    "eta_rho = 150"
   ]
  },
  {
   "cell_type": "code",
   "execution_count": null,
   "metadata": {},
   "outputs": [],
   "source": [
    "def keep_unique_times(data: xr.DataArray):\n",
    "    \"\"\"\n",
    "    ROMS changes the initial values on startup and saves them.\n",
    "    -> There are several similar data sets with slightly different data \n",
    "    on successive runs.\n",
    "    This function keeps only the first date occurrence and removes the second. \n",
    "    \"\"\"\n",
    "    time_index = data['ocean_time'].to_index()\n",
    "    is_unique = ~time_index.duplicated(keep='first')\n",
    "    indices_unique = np.where(is_unique)[0]\n",
    "    return data.isel(ocean_time=indices_unique)"
   ]
  },
  {
   "cell_type": "code",
   "execution_count": null,
   "metadata": {},
   "outputs": [],
   "source": [
    "da_station = keep_unique_times(ds_data.sel(xi_rho = xi_rho, eta_rho = eta_rho).isel(s_rho=-1)[variable].persist())"
   ]
  },
  {
   "cell_type": "code",
   "execution_count": null,
   "metadata": {},
   "outputs": [],
   "source": [
    "da_station"
   ]
  },
  {
   "cell_type": "code",
   "execution_count": null,
   "metadata": {},
   "outputs": [],
   "source": [
    "st_lon = da_station.lon_rho.values\n",
    "st_lat = da_station.lat_rho.values\n",
    "na_stations = da_station.values  # keep the name similar to 4st obs"
   ]
  },
  {
   "cell_type": "markdown",
   "metadata": {},
   "source": [
    "### Prepare data arrays for the ROMS data assimilation observation file"
   ]
  },
  {
   "cell_type": "code",
   "execution_count": null,
   "metadata": {},
   "outputs": [],
   "source": [
    "points_per_time = 1\n",
    "time_points = da_station.ocean_time.shape[0]\n",
    "print(f\"There are {points_per_time} observations per time and {time_points} time points.\")"
   ]
  },
  {
   "cell_type": "code",
   "execution_count": null,
   "metadata": {},
   "outputs": [],
   "source": [
    "rho_levels = da_station.s_rho.shape\n",
    "rho_levels"
   ]
  },
  {
   "cell_type": "code",
   "execution_count": null,
   "metadata": {},
   "outputs": [],
   "source": [
    "da_station.s_rho"
   ]
  },
  {
   "cell_type": "markdown",
   "metadata": {},
   "source": [
    "Obs file structure: \n",
    "All variables are similar size 1d arrays, where size is a number of total observations,\n",
    "except survey_time and nobs per survey time.\n",
    "Survey can contain several observations."
   ]
  },
  {
   "cell_type": "markdown",
   "metadata": {},
   "source": [
    "obs_value"
   ]
  },
  {
   "cell_type": "code",
   "execution_count": null,
   "metadata": {},
   "outputs": [],
   "source": [
    "na_st_flat = na_stations\n",
    "na_st_flat.shape"
   ]
  },
  {
   "cell_type": "code",
   "execution_count": null,
   "metadata": {},
   "outputs": [],
   "source": [
    "print(f\"Is data finite? {np.all(np.isfinite(na_st_flat))}\")"
   ]
  },
  {
   "cell_type": "code",
   "execution_count": null,
   "metadata": {},
   "outputs": [],
   "source": [
    "fig, ax = plt.subplots(figsize=(14, 7))\n",
    "ax.plot(na_st_flat, \"c+\")"
   ]
  },
  {
   "cell_type": "markdown",
   "metadata": {},
   "source": [
    "obs_type"
   ]
  },
  {
   "cell_type": "code",
   "execution_count": null,
   "metadata": {},
   "outputs": [],
   "source": [
    "na_type = np.full_like(na_st_flat, data_type[variable], dtype=np.int32)\n",
    "na_type.shape"
   ]
  },
  {
   "cell_type": "markdown",
   "metadata": {},
   "source": [
    "obs_provenance"
   ]
  },
  {
   "cell_type": "code",
   "execution_count": null,
   "metadata": {},
   "outputs": [],
   "source": [
    "na_provenance = np.full_like(na_st_flat, 1, dtype=np.int32)\n",
    "na_provenance.shape"
   ]
  },
  {
   "cell_type": "markdown",
   "metadata": {},
   "source": [
    "obs_time"
   ]
  },
  {
   "cell_type": "code",
   "execution_count": null,
   "metadata": {},
   "outputs": [],
   "source": [
    "na_time = np.repeat(da_station.ocean_time.values[..., np.newaxis], points_per_time, axis=1).flatten()\n",
    "na_time.shape"
   ]
  },
  {
   "cell_type": "code",
   "execution_count": null,
   "metadata": {},
   "outputs": [],
   "source": [
    "fig, ax = plt.subplots(figsize=(14, 7))\n",
    "ax.plot(na_time)"
   ]
  },
  {
   "cell_type": "markdown",
   "metadata": {},
   "source": [
    "obs_depth\n",
    "\n",
    "If positive, should be a ROMS grid level, for example, 25 is a top layer if there are 25 layers\n",
    "If negative, meters, not tested\n",
    "\n",
    "Here should be like 1 1 1 1 2 2 2 2... 25 25 25 25 1 1 1 1 ..."
   ]
  },
  {
   "cell_type": "code",
   "execution_count": null,
   "metadata": {},
   "outputs": [],
   "source": [
    "depth_time_step = 25"
   ]
  },
  {
   "cell_type": "code",
   "execution_count": null,
   "metadata": {},
   "outputs": [],
   "source": [
    "na_depth = np.tile(depth_time_step, time_points)\n",
    "na_depth.shape"
   ]
  },
  {
   "cell_type": "code",
   "execution_count": null,
   "metadata": {},
   "outputs": [],
   "source": [
    "fig, ax = plt.subplots(figsize=(14, 7))\n",
    "ax.plot(na_depth)"
   ]
  },
  {
   "cell_type": "markdown",
   "metadata": {},
   "source": [
    "obs_Xgrid and obs_Ygrid"
   ]
  },
  {
   "cell_type": "markdown",
   "metadata": {},
   "source": [
    "We need to find the closest to the observation coordinates grid points.\n",
    "They can be fractional.\n",
    "\n",
    "from https://www.myroms.org/Workshops/4DVAR2019/Tutorials/Tutorial_10_2019.pdf:\n",
    "\n",
    "The obs_lon and obs_lat values are only necessary to compute the fractional grid\n",
    "locations (obs_Xgrid, obs_Ygrid) during pre-processing using obs_ijpos.m.\n",
    "\n",
    "The obs_lon and obs_lat are not used directly in ROMS when running the 4D-Var\n",
    "algorithms for efficiency and because of the complexity of curvilinear grids. The\n",
    "fractional grid locations obs_Xgrid and obs_Ygrid are used instead. Their values\n",
    "range are:\n",
    "obs_Xgrid: 0.5 to L – 0.5\n",
    "obs_Ygrid: 0.5 to M – 0.5"
   ]
  },
  {
   "cell_type": "code",
   "execution_count": null,
   "metadata": {},
   "outputs": [],
   "source": [
    "na_xis = np.array([xi_rho, ])"
   ]
  },
  {
   "cell_type": "code",
   "execution_count": null,
   "metadata": {},
   "outputs": [],
   "source": [
    "na_etas = np.array([eta_rho, ])"
   ]
  },
  {
   "cell_type": "markdown",
   "metadata": {},
   "source": [
    "Plot the fractional xi, eta station coordinates"
   ]
  },
  {
   "cell_type": "code",
   "execution_count": null,
   "metadata": {},
   "outputs": [],
   "source": [
    "p = ds_grid.mask_rho.plot(x=\"xi_rho\", y=\"eta_rho\", figsize=(14, 7), cmap=\"GnBu\")\n",
    "p.axes.scatter(x=na_xis, y=na_etas, color=\"red\")\n",
    "p.axes.annotate(\"St 1\", (na_xis[0], na_etas[0]), color=\"red\")"
   ]
  },
  {
   "cell_type": "code",
   "execution_count": null,
   "metadata": {},
   "outputs": [],
   "source": [
    "na_xgrid = np.tile(np.tile(na_xis, rho_levels), time_points)\n",
    "na_ygrid = np.tile(np.tile(na_etas, rho_levels), time_points)"
   ]
  },
  {
   "cell_type": "code",
   "execution_count": null,
   "metadata": {},
   "outputs": [],
   "source": [
    "fig, ax = plt.subplots(figsize=(14, 3))\n",
    "ax.plot(na_xgrid, \"c+\")"
   ]
  },
  {
   "cell_type": "code",
   "execution_count": null,
   "metadata": {},
   "outputs": [],
   "source": [
    "na_xgrid.shape"
   ]
  },
  {
   "cell_type": "code",
   "execution_count": null,
   "metadata": {},
   "outputs": [],
   "source": [
    "na_ygrid.shape"
   ]
  },
  {
   "cell_type": "markdown",
   "metadata": {},
   "source": [
    "obs_Zgrid"
   ]
  },
  {
   "cell_type": "markdown",
   "metadata": {},
   "source": [
    "There is no description, but according to `d_sst_obs.m` zgrid on surface should be zero"
   ]
  },
  {
   "cell_type": "code",
   "execution_count": null,
   "metadata": {},
   "outputs": [],
   "source": [
    "na_zgrid_time_step = np.array([0, ])"
   ]
  },
  {
   "cell_type": "code",
   "execution_count": null,
   "metadata": {},
   "outputs": [],
   "source": [
    "na_zgrid = np.tile(na_zgrid_time_step, time_points)\n",
    "na_zgrid.shape"
   ]
  },
  {
   "cell_type": "code",
   "execution_count": null,
   "metadata": {},
   "outputs": [],
   "source": [
    "fig, ax = plt.subplots(figsize=(14, 7))\n",
    "ax.plot(na_zgrid)"
   ]
  },
  {
   "cell_type": "markdown",
   "metadata": {},
   "source": [
    "obs_Error"
   ]
  },
  {
   "cell_type": "code",
   "execution_count": null,
   "metadata": {},
   "outputs": [],
   "source": [
    "# from `d_sst_obs.m`\n",
    "na_error = np.full_like(na_st_flat, 0.4**2)"
   ]
  },
  {
   "cell_type": "code",
   "execution_count": null,
   "metadata": {},
   "outputs": [],
   "source": [
    "na_error.shape"
   ]
  },
  {
   "cell_type": "markdown",
   "metadata": {},
   "source": [
    "survey_time"
   ]
  },
  {
   "cell_type": "code",
   "execution_count": null,
   "metadata": {},
   "outputs": [],
   "source": [
    "na_survey_time = da_station.ocean_time.values"
   ]
  },
  {
   "cell_type": "code",
   "execution_count": null,
   "metadata": {},
   "outputs": [],
   "source": [
    "na_survey_time"
   ]
  },
  {
   "cell_type": "code",
   "execution_count": null,
   "metadata": {},
   "outputs": [],
   "source": [
    "na_survey_time.shape"
   ]
  },
  {
   "cell_type": "markdown",
   "metadata": {},
   "source": [
    "np_nobs"
   ]
  },
  {
   "cell_type": "code",
   "execution_count": null,
   "metadata": {},
   "outputs": [],
   "source": [
    "na_nobs = np.repeat(points_per_time, time_points)"
   ]
  },
  {
   "cell_type": "code",
   "execution_count": null,
   "metadata": {},
   "outputs": [],
   "source": [
    "na_nobs"
   ]
  },
  {
   "cell_type": "markdown",
   "metadata": {},
   "source": [
    "np_lon and np_lat"
   ]
  },
  {
   "cell_type": "code",
   "execution_count": null,
   "metadata": {},
   "outputs": [],
   "source": [
    "na_lon = np.tile(np.tile(st_lon, rho_levels), time_points)\n",
    "na_lat = np.tile(np.tile(st_lat, rho_levels), time_points)"
   ]
  },
  {
   "cell_type": "code",
   "execution_count": null,
   "metadata": {},
   "outputs": [],
   "source": [
    "na_lon.shape"
   ]
  },
  {
   "cell_type": "code",
   "execution_count": null,
   "metadata": {},
   "outputs": [],
   "source": [
    "na_lat.shape"
   ]
  },
  {
   "cell_type": "markdown",
   "metadata": {},
   "source": [
    "### Make a dataset"
   ]
  },
  {
   "cell_type": "code",
   "execution_count": null,
   "metadata": {},
   "outputs": [],
   "source": [
    "ds = xr.Dataset(\n",
    "    {\n",
    "        \"spherical\": 1,\n",
    "        \"Nobs\": (\"survey\", na_nobs),\n",
    "        \"survey_time\": (\"survey\", na_survey_time),\n",
    "        \"obs_variance\": (\"state_variable\", ds_wc13_obs.obs_variance.data),\n",
    "        \"obs_value\": (\"datum\", na_st_flat),\n",
    "        \"obs_type\": (\"datum\", na_type),\n",
    "        \"obs_provenance\": (\"datum\", na_provenance),\n",
    "        \"obs_time\": (\"datum\", na_time),\n",
    "        \"obs_depth\": (\"datum\", na_depth),\n",
    "        \"obs_Xgrid\": (\"datum\", na_xgrid),\n",
    "        \"obs_Ygrid\": (\"datum\", na_ygrid),\n",
    "        \"obs_Zgrid\": (\"datum\", na_zgrid),\n",
    "        \"obs_error\": (\"datum\", na_error),\n",
    "        \"obs_lon\": (\"datum\", na_lon),\n",
    "        \"obs_lat\": (\"datum\", na_lat),\n",
    "    },\n",
    ")"
   ]
  },
  {
   "cell_type": "code",
   "execution_count": null,
   "metadata": {},
   "outputs": [],
   "source": [
    "ds"
   ]
  },
  {
   "cell_type": "markdown",
   "metadata": {},
   "source": [
    "According to my experiments it is crucial to put time units with a time reference 'days since ...'"
   ]
  },
  {
   "cell_type": "code",
   "execution_count": null,
   "metadata": {},
   "outputs": [],
   "source": [
    "ds.to_netcdf(\n",
    "    args.output_obs_file,\n",
    "    encoding={\n",
    "        \"survey_time\": {\"units\": \"days since 1948-01-01\"},\n",
    "        \"obs_time\": {\"units\": \"days since 1948-01-01\"},\n",
    "    },\n",
    ")"
   ]
  },
  {
   "cell_type": "code",
   "execution_count": null,
   "metadata": {},
   "outputs": [],
   "source": []
  }
 ],
 "metadata": {
  "kernelspec": {
   "display_name": "ocean",
   "language": "python",
   "name": "python3"
  },
  "language_info": {
   "codemirror_mode": {
    "name": "ipython",
    "version": 3
   },
   "file_extension": ".py",
   "mimetype": "text/x-python",
   "name": "python",
   "nbconvert_exporter": "python",
   "pygments_lexer": "ipython3",
   "version": "3.12.5"
  },
  "orig_nbformat": 4
 },
 "nbformat": 4,
 "nbformat_minor": 2
}
