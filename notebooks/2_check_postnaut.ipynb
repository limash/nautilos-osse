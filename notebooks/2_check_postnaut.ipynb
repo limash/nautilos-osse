{
 "cells": [
  {
   "cell_type": "code",
   "execution_count": null,
   "metadata": {},
   "outputs": [],
   "source": [
    "import os\n",
    "from pathlib import Path\n",
    "\n",
    "import xarray as xr"
   ]
  },
  {
   "cell_type": "code",
   "execution_count": null,
   "metadata": {},
   "outputs": [],
   "source": [
    "datapath_prenautilos = os.path.join(Path.home(), \"fram/prenautilos_2017_10_inner_loops/0_iter\")\n",
    "datapath_postnautilos = os.path.join(Path.home(), \"fram/postnautilos_2017_farms_10_inner_loops/0_iter\")"
   ]
  },
  {
   "cell_type": "code",
   "execution_count": null,
   "metadata": {},
   "outputs": [],
   "source": [
    "pre_fwd_outer0 = xr.open_dataset(os.path.join(datapath_prenautilos, \"wc13_fwd_outer0_0001.nc\"))\n",
    "pre_fwd_outer1 = xr.open_dataset(os.path.join(datapath_prenautilos, \"wc13_fwd_outer1_0001.nc\"))\n",
    "post_fwd_outer0 = xr.open_dataset(os.path.join(datapath_postnautilos, \"wc13_fwd_outer0_0001.nc\"))\n",
    "post_fwd_outer1 = xr.open_dataset(os.path.join(datapath_postnautilos, \"wc13_fwd_outer1_0001.nc\"))"
   ]
  },
  {
   "cell_type": "code",
   "execution_count": null,
   "metadata": {},
   "outputs": [],
   "source": [
    "pre_fwd_outer0.isel(ocean_time=-1, s_rho=-1)[\"temp\"].plot(figsize=(14, 7))"
   ]
  },
  {
   "cell_type": "code",
   "execution_count": null,
   "metadata": {},
   "outputs": [],
   "source": [
    "post_fwd_outer0.isel(ocean_time=-1, s_rho=-1)[\"temp\"].plot(figsize=(14, 7))"
   ]
  },
  {
   "cell_type": "code",
   "execution_count": null,
   "metadata": {},
   "outputs": [],
   "source": [
    "pre_fwd_outer1.isel(ocean_time=-1, s_rho=-1)[\"temp\"].plot(figsize=(14, 7))"
   ]
  },
  {
   "cell_type": "code",
   "execution_count": null,
   "metadata": {},
   "outputs": [],
   "source": [
    "post_fwd_outer1.isel(ocean_time=-1, s_rho=-1)[\"temp\"].plot(figsize=(14, 7))"
   ]
  },
  {
   "cell_type": "code",
   "execution_count": null,
   "metadata": {},
   "outputs": [],
   "source": []
  }
 ],
 "metadata": {
  "kernelspec": {
   "display_name": "ocean",
   "language": "python",
   "name": "python3"
  },
  "language_info": {
   "codemirror_mode": {
    "name": "ipython",
    "version": 3
   },
   "file_extension": ".py",
   "mimetype": "text/x-python",
   "name": "python",
   "nbconvert_exporter": "python",
   "pygments_lexer": "ipython3",
   "version": "3.12.3"
  },
  "orig_nbformat": 4
 },
 "nbformat": 4,
 "nbformat_minor": 2
}
