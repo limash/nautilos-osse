{
 "cells": [
  {
   "cell_type": "code",
   "execution_count": null,
   "metadata": {},
   "outputs": [],
   "source": [
    "import os\n",
    "from pathlib import Path\n",
    "\n",
    "import xarray as xr"
   ]
  },
  {
   "cell_type": "markdown",
   "metadata": {},
   "source": [
    "### Forward runs"
   ]
  },
  {
   "cell_type": "code",
   "execution_count": null,
   "metadata": {},
   "outputs": [],
   "source": [
    "datapath_orig_roho800 = os.path.join(  # baseline\n",
    "    Path.home(), \"fram/roho800_data/output_data/orig_with_phys_from_forward/y2017/5_iter\"\n",
    ")\n",
    "datapath_orig_roho160 = os.path.join(  # nature run - gets phys data from roho160 after 1_iter\n",
    "    Path.home(), \"fram/roho800_data/output_data/orig_with_phys_from_roho160/2017_3_months_per_3_days/5_iter\"\n",
    ")"
   ]
  },
  {
   "cell_type": "code",
   "execution_count": null,
   "metadata": {},
   "outputs": [],
   "source": [
    "roho800 = xr.open_dataset(os.path.join(datapath_orig_roho800, \"roho800_his_0001.nc\"))\n",
    "roho160 = xr.open_dataset(os.path.join(datapath_orig_roho160, \"roho800_his_0001.nc\"))"
   ]
  },
  {
   "cell_type": "code",
   "execution_count": null,
   "metadata": {},
   "outputs": [],
   "source": [
    "ocean_time = 0"
   ]
  },
  {
   "cell_type": "code",
   "execution_count": null,
   "metadata": {},
   "outputs": [],
   "source": [
    "roho800.isel(ocean_time=ocean_time, s_rho=-1)[\"temp\"].plot(figsize=(14, 7))  # baseline"
   ]
  },
  {
   "cell_type": "code",
   "execution_count": null,
   "metadata": {},
   "outputs": [],
   "source": [
    "roho160.isel(ocean_time=ocean_time, s_rho=-1)[\"temp\"].plot(figsize=(14, 7))  # the nature run"
   ]
  },
  {
   "cell_type": "markdown",
   "metadata": {},
   "source": [
    "### Data assimilation"
   ]
  },
  {
   "cell_type": "code",
   "execution_count": null,
   "metadata": {},
   "outputs": [],
   "source": [
    "datapath = os.path.join(\n",
    "    Path.home(), \n",
    "    \"fram/roho800_data/output_data/4dvar/postnautilos_2017_farms_10_inner_loops_new_init/0_iter\"\n",
    ")\n",
    "# pre_fwd_outer0 = xr.open_dataset(os.path.join(datapath, \"wc13_fwd_outer0_0001.nc\"))\n",
    "# pre_fwd_outer1 = xr.open_dataset(os.path.join(datapath, \"wc13_fwd_outer1_0001.nc\"))\n",
    "post_fwd_outer0 = xr.open_dataset(os.path.join(datapath, \"wc13_fwd_outer0_0001.nc\"))\n",
    "post_fwd_outer1 = xr.open_dataset(os.path.join(datapath, \"wc13_fwd_outer1_0001.nc\"))"
   ]
  },
  {
   "cell_type": "code",
   "execution_count": null,
   "metadata": {},
   "outputs": [],
   "source": [
    "ocean_time = 0"
   ]
  },
  {
   "cell_type": "code",
   "execution_count": null,
   "metadata": {},
   "outputs": [],
   "source": [
    "# pre_fwd_outer0.isel(ocean_time=0, s_rho=-1)[\"temp\"].plot(figsize=(14, 7))"
   ]
  },
  {
   "cell_type": "code",
   "execution_count": null,
   "metadata": {},
   "outputs": [],
   "source": [
    "post_fwd_outer0.isel(ocean_time=2*ocean_time, s_rho=-1)[\"temp\"].plot(figsize=(14, 7))"
   ]
  },
  {
   "cell_type": "code",
   "execution_count": null,
   "metadata": {},
   "outputs": [],
   "source": [
    "# pre_fwd_outer1.isel(ocean_time=0, s_rho=-1)[\"temp\"].plot(figsize=(14, 7))"
   ]
  },
  {
   "cell_type": "code",
   "execution_count": null,
   "metadata": {},
   "outputs": [],
   "source": [
    "post_fwd_outer1.isel(ocean_time=2*ocean_time, s_rho=-1)[\"temp\"].plot(figsize=(14, 7))"
   ]
  },
  {
   "cell_type": "code",
   "execution_count": null,
   "metadata": {},
   "outputs": [],
   "source": []
  }
 ],
 "metadata": {
  "kernelspec": {
   "display_name": "ocean",
   "language": "python",
   "name": "python3"
  },
  "language_info": {
   "codemirror_mode": {
    "name": "ipython",
    "version": 3
   },
   "file_extension": ".py",
   "mimetype": "text/x-python",
   "name": "python",
   "nbconvert_exporter": "python",
   "pygments_lexer": "ipython3",
   "version": "3.12.3"
  },
  "orig_nbformat": 4
 },
 "nbformat": 4,
 "nbformat_minor": 2
}
