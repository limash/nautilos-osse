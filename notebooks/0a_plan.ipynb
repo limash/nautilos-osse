{
 "cells": [
  {
   "cell_type": "markdown",
   "metadata": {},
   "source": [
    "### Preparation\n",
    "We need to prepare 3 models (**DONE**):\n",
    "- ROHO800ORIGINAL, which was validated and tested - it is the forecasting model.\n",
    "Why use this model for forecasting - this model is coupled with ERSEM.\n",
    "- ROHO800 to perform data assimilation. \n",
    "I had a lot of issues with the ROHO800ORIGINAL - with netcdf MPI output, data assimilation setup.\n",
    "Also there were some fixes in i4dvar and rivers processing ROMS code since ROHO800ORIGINAL.\n",
    "So I took a much newer ROMS version (spring 2023).\n",
    "This model is used for OSSE.\n",
    "This model is not coupled with ERSEM.\n",
    "- ROHO160 - the nature run.\n",
    "It uses the same ROMS version as ROHO800.\n",
    "This model is not coupled with ERSEM.\n",
    "- ROHO160 with biogeochemistry - not available, roho160 roms version not compatible with a Phil's coupler.\n",
    "\n",
    "The model setups to prepare:\n",
    "- sROHO160 - the physics nature run ROHO160 model (**DONE**).\n",
    "- sROHO800ORIGINAL (**DONE**).\n",
    "- sROHO800 forward run (**DONE**).\n",
    "Its physics differs from sROHO800ORIGINAl significantly.\n",
    "- sROHO800_base - ROHO800ORIGINAL model, restart every 3d day with physics from sROHO800 forward and biogeo from the prev step of the current run. (**DONE**)\n",
    "- sROHO800_nature - ROHO800ORIGINAL model, restart every day with physics from ROHO160 forward and biogeo from the previous period output.\n",
    "\n",
    "Launch setups for 3 springs.\n",
    "- Period 1: 01.02.2017 - 01.05.2017; \n",
    "- Period 2: 01.02.2018 - 01.05.2018; \n",
    "- Period 3: 01.02.2019 - 01.05.2019; \n"
   ]
  },
  {
   "cell_type": "markdown",
   "metadata": {},
   "source": [
    "The reasons for sROHO800_base and sROHO800_nature:\n",
    "The results from ROHO800ORIGINAL (old roms) and ROHO800 (newer roms) are very different.\n",
    "Therefore, we cannot compare ROHO800ORIGINAL without data assimilation with ROHO800 with assimilation because even pure runs are different."
   ]
  },
  {
   "cell_type": "markdown",
   "metadata": {},
   "source": [
    "**TODO** sROHO800_nature plan:\n",
    "- Delete all lakes from sROHO160 output to simplify extrapolation (**DONE**);\n",
    "- Extrapolate the sROHO160 output history files to 800 grid - physics (**DONE**).\n",
    "800 grid has a larger domain.\n",
    "- Prepare python scripts which would use above files and ROMS output for periodic runs. (**DONE**)"
   ]
  },
  {
   "cell_type": "markdown",
   "metadata": {},
   "source": [
    "### Model comparison without data assimilation\n",
    "Model setup pairs to compare:\n",
    "- sROHO800_base vs sROHO800_nature  "
   ]
  },
  {
   "cell_type": "markdown",
   "metadata": {},
   "source": [
    "### Do pre Nautilos data assimilation runs\n",
    "Use data from 4 stations in the Hardangerfjord.\n",
    "Relaunch ROHO800ORIGINAL_base with initial conditions from ROHO800 data assimilation every 3 days.\n",
    "Model setup pairs to compare:\n",
    "- ROHO800ORIGINAL_base (after 4 stations da initial conditions) vs ROHO160 for physics  \n",
    "- ROHO800ORIGINAL_base (after 4 stations da initial conditions) vs ROHO800ORIGINAL_bio for biogeochemistry"
   ]
  },
  {
   "cell_type": "markdown",
   "metadata": {},
   "source": [
    "### Post Nautilos runs\n",
    "\n",
    "Need to choose the station positions."
   ]
  }
 ],
 "metadata": {
  "kernelspec": {
   "display_name": "nautilos-osse",
   "language": "python",
   "name": "python3"
  },
  "language_info": {
   "name": "python",
   "version": "3.12.3"
  }
 },
 "nbformat": 4,
 "nbformat_minor": 2
}
