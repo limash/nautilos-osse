{
 "cells": [
  {
   "cell_type": "code",
   "execution_count": null,
   "metadata": {},
   "outputs": [],
   "source": [
    "import os\n",
    "import glob\n",
    "\n",
    "import numpy as np\n",
    "import xarray as xr\n",
    "import matplotlib.pyplot as plt"
   ]
  },
  {
   "cell_type": "markdown",
   "metadata": {},
   "source": [
    "Since NLM runs after and before data assimilation differ a lot, check the differences between initial conditions."
   ]
  },
  {
   "cell_type": "code",
   "execution_count": null,
   "metadata": {},
   "outputs": [],
   "source": [
    "init_before_da = \"/cluster/projects/nn9297k/shmiak/roho800_data/input_data/roho800_init_2018-04-01.nc\"\n",
    "init_after_da = \"/cluster/projects/nn9297k/shmiak/roho800_data/input_data/roho800_init_2018-04-01_after_da.nc\""
   ]
  },
  {
   "cell_type": "code",
   "execution_count": null,
   "metadata": {},
   "outputs": [],
   "source": [
    "ds_before = xr.open_dataset(init_before_da)\n",
    "ds_after = xr.open_dataset(init_after_da)"
   ]
  },
  {
   "cell_type": "code",
   "execution_count": null,
   "metadata": {},
   "outputs": [],
   "source": [
    "temp_diff = ds_after['temp'].values - ds_before['temp'].values"
   ]
  },
  {
   "cell_type": "code",
   "execution_count": null,
   "metadata": {},
   "outputs": [],
   "source": [
    "temp_levs = np.linspace(-1, 1, 33)\n",
    "fig, ax = plt.subplots(figsize=(14, 7))\n",
    "cf = ax.contourf(temp_diff[-1, :, :], cmap='coolwarm', levels=temp_levs)\n",
    "cs = ax.contour(temp_diff[-1, :, :], levels=temp_levs)\n",
    "ax.clabel(cs, cs.levels)\n",
    "ax.set_title(\"Temperature difference\")\n",
    "fig.colorbar(cf)"
   ]
  },
  {
   "cell_type": "code",
   "execution_count": null,
   "metadata": {},
   "outputs": [],
   "source": []
  }
 ],
 "metadata": {
  "kernelspec": {
   "display_name": "ocean",
   "language": "python",
   "name": "python3"
  },
  "language_info": {
   "codemirror_mode": {
    "name": "ipython",
    "version": 3
   },
   "file_extension": ".py",
   "mimetype": "text/x-python",
   "name": "python",
   "nbconvert_exporter": "python",
   "pygments_lexer": "ipython3",
   "version": "3.10.9"
  },
  "orig_nbformat": 4
 },
 "nbformat": 4,
 "nbformat_minor": 2
}
