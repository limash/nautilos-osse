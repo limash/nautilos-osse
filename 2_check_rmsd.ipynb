{
 "cells": [
  {
   "cell_type": "code",
   "execution_count": null,
   "metadata": {},
   "outputs": [],
   "source": [
    "import glob\n",
    "from datetime import datetime, timedelta\n",
    "\n",
    "import numpy as np\n",
    "import xarray as xr\n",
    "import xesmf as xe\n",
    "import matplotlib.pyplot as plt\n",
    "import seaborn as sns\n",
    "\n",
    "sns.set_style(\"darkgrid\")"
   ]
  },
  {
   "cell_type": "code",
   "execution_count": null,
   "metadata": {},
   "outputs": [],
   "source": [
    "input_grid_file = '/cluster/projects/nn9490k/ROHO800/Grid/ROHO800_grid_fix5.nc'\n",
    "input_data_file =  '/cluster/projects/nn9297k/shmiak/roho160_data/1_2017-01-15_to_2019-07-16/roho160_his_0045.nc'\n",
    "roho800_forward = \"/cluster/projects/nn9297k/shmiak/roho800_data/output_data/4dvar/4st_spring2018/*fwd_outer0*.nc\"\n",
    "roho800_da = \"/cluster/projects/nn9297k/shmiak/roho800_data/output_data/4dvar/4st_spring2018/*fwd_outer1*.nc\""
   ]
  },
  {
   "cell_type": "code",
   "execution_count": null,
   "metadata": {},
   "outputs": [],
   "source": [
    "roho800_forward = sorted(glob.glob(roho800_forward))\n",
    "roho800_da = sorted(glob.glob(roho800_da))"
   ]
  },
  {
   "cell_type": "code",
   "execution_count": null,
   "metadata": {},
   "outputs": [],
   "source": [
    "time_slice = slice('2018-04-01', '2018-04-07')"
   ]
  },
  {
   "cell_type": "code",
   "execution_count": null,
   "metadata": {},
   "outputs": [],
   "source": [
    "ds_grid = xr.open_dataset(input_grid_file)\n",
    "ds_data = xr.open_dataset(input_data_file).sel(ocean_time=time_slice)\n",
    "ds_roho800_before = xr.open_dataset(roho800_forward[0]).sel(ocean_time=time_slice)\n",
    "ds_roho800_after = xr.open_dataset(roho800_da[0]).sel(ocean_time=time_slice)"
   ]
  },
  {
   "cell_type": "code",
   "execution_count": null,
   "metadata": {},
   "outputs": [],
   "source": [
    "ds_grid = ds_grid.rename({\"lon_rho\": \"lon\", \"lat_rho\": \"lat\"})\n",
    "ds_data = ds_data.rename({\"lon_rho\": \"lon\", \"lat_rho\": \"lat\"})"
   ]
  },
  {
   "cell_type": "code",
   "execution_count": null,
   "metadata": {},
   "outputs": [],
   "source": [
    "regridder = xe.Regridder(ds_data, ds_grid, \"bilinear\", unmapped_to_nan=True)\n",
    "da_temp_nature = regridder(ds_data['temp'])"
   ]
  },
  {
   "cell_type": "code",
   "execution_count": null,
   "metadata": {},
   "outputs": [],
   "source": [
    "da_temp_nature = da_temp_nature / ds_grid.mask_rho"
   ]
  },
  {
   "cell_type": "code",
   "execution_count": null,
   "metadata": {},
   "outputs": [],
   "source": [
    "np.count_nonzero(np.isfinite(da_temp_nature))"
   ]
  },
  {
   "cell_type": "code",
   "execution_count": null,
   "metadata": {},
   "outputs": [],
   "source": [
    "mask_nature = np.isfinite(da_temp_nature).astype(int)"
   ]
  },
  {
   "cell_type": "code",
   "execution_count": null,
   "metadata": {},
   "outputs": [],
   "source": [
    "mask_nature.isel(ocean_time=-1, s_rho=-1).plot()"
   ]
  },
  {
   "cell_type": "code",
   "execution_count": null,
   "metadata": {},
   "outputs": [],
   "source": [
    "da_temp_before = ds_roho800_before[\"temp\"]\n",
    "da_temp_after = ds_roho800_after[\"temp\"]"
   ]
  },
  {
   "cell_type": "code",
   "execution_count": null,
   "metadata": {},
   "outputs": [],
   "source": [
    "da_temp_before = da_temp_before / mask_nature\n",
    "da_temp_after = da_temp_after / mask_nature"
   ]
  },
  {
   "cell_type": "code",
   "execution_count": null,
   "metadata": {},
   "outputs": [],
   "source": [
    "np.count_nonzero(np.isfinite(da_temp_before))"
   ]
  },
  {
   "cell_type": "code",
   "execution_count": null,
   "metadata": {},
   "outputs": [],
   "source": [
    "np.count_nonzero(np.isfinite(da_temp_after))"
   ]
  },
  {
   "cell_type": "code",
   "execution_count": null,
   "metadata": {},
   "outputs": [],
   "source": [
    "ocean_time = -1\n",
    "vmin, vmax = 0, 10"
   ]
  },
  {
   "cell_type": "code",
   "execution_count": null,
   "metadata": {},
   "outputs": [],
   "source": [
    "da_temp_nature.isel(ocean_time=ocean_time, s_rho=-1).plot(vmin=vmin, vmax=vmax, figsize=(14, 7))"
   ]
  },
  {
   "cell_type": "code",
   "execution_count": null,
   "metadata": {},
   "outputs": [],
   "source": [
    "da_temp_before.isel(ocean_time=ocean_time, s_rho=-1).plot(vmin=vmin, vmax=vmax, figsize=(14, 7))"
   ]
  },
  {
   "cell_type": "code",
   "execution_count": null,
   "metadata": {},
   "outputs": [],
   "source": [
    "da_temp_after.isel(ocean_time=ocean_time, s_rho=-1).plot(vmin=vmin, vmax=vmax, figsize=(14, 7))"
   ]
  },
  {
   "cell_type": "code",
   "execution_count": null,
   "metadata": {},
   "outputs": [],
   "source": [
    "da_temp_nature.values.shape"
   ]
  },
  {
   "cell_type": "code",
   "execution_count": null,
   "metadata": {},
   "outputs": [],
   "source": [
    "da_temp_before.values.shape"
   ]
  },
  {
   "cell_type": "code",
   "execution_count": null,
   "metadata": {},
   "outputs": [],
   "source": [
    "da_temp_after.values.shape"
   ]
  },
  {
   "cell_type": "code",
   "execution_count": null,
   "metadata": {},
   "outputs": [],
   "source": [
    "def rmsd(first, second):\n",
    "    first = first[np.isfinite(first)].flatten()\n",
    "    second = second[np.isfinite(second)].flatten()\n",
    "    assert first.size == second.size\n",
    "    return np.sqrt(\n",
    "        np.sum(np.square(first - second)) / first.size\n",
    "        )"
   ]
  },
  {
   "cell_type": "code",
   "execution_count": null,
   "metadata": {},
   "outputs": [],
   "source": [
    "xi_slice = slice(150, 300)  # 150, 300\n",
    "eta_slice = slice(50, 150)  # 50, 150"
   ]
  },
  {
   "cell_type": "code",
   "execution_count": null,
   "metadata": {},
   "outputs": [],
   "source": [
    "rmsd_spatial_before = np.zeros(da_temp_nature.shape[0])\n",
    "rmsd_spatial_after = np.zeros(da_temp_nature.shape[0])"
   ]
  },
  {
   "cell_type": "code",
   "execution_count": null,
   "metadata": {},
   "outputs": [],
   "source": [
    "for i in range(da_temp_nature.shape[0]):\n",
    "    rmsd_spatial_before[i] = rmsd(da_temp_nature[i, :, eta_slice, xi_slice].values, da_temp_before[i, :, eta_slice, xi_slice].values)\n",
    "    rmsd_spatial_after[i] = rmsd(da_temp_nature[i, :, eta_slice, xi_slice].values, da_temp_after[i, :, eta_slice, xi_slice].values)"
   ]
  },
  {
   "cell_type": "code",
   "execution_count": null,
   "metadata": {},
   "outputs": [],
   "source": [
    "na_time = np.arange(datetime(2018, 4, 1), datetime(2018, 4, 8), timedelta(hours=12)).astype(datetime)"
   ]
  },
  {
   "cell_type": "code",
   "execution_count": null,
   "metadata": {},
   "outputs": [],
   "source": [
    "fig, ax = plt.subplots(figsize=(10, 2))\n",
    "ax.plot(na_time, rmsd_spatial_before, label=\"before da\")\n",
    "ax.plot(na_time, rmsd_spatial_after, label=\"after da\")\n",
    "ax.set_title('Spatially Integrated RMSD')\n",
    "ax.legend()\n",
    "fig.tight_layout()"
   ]
  },
  {
   "cell_type": "code",
   "execution_count": null,
   "metadata": {},
   "outputs": [],
   "source": []
  }
 ],
 "metadata": {
  "kernelspec": {
   "display_name": "ocean",
   "language": "python",
   "name": "python3"
  },
  "language_info": {
   "codemirror_mode": {
    "name": "ipython",
    "version": 3
   },
   "file_extension": ".py",
   "mimetype": "text/x-python",
   "name": "python",
   "nbconvert_exporter": "python",
   "pygments_lexer": "ipython3",
   "version": "3.10.9"
  },
  "orig_nbformat": 4
 },
 "nbformat": 4,
 "nbformat_minor": 2
}
