{
 "cells": [
  {
   "cell_type": "code",
   "execution_count": null,
   "metadata": {},
   "outputs": [],
   "source": [
    "import os\n",
    "import glob\n",
    "\n",
    "import xarray as xr"
   ]
  },
  {
   "cell_type": "code",
   "execution_count": null,
   "metadata": {},
   "outputs": [],
   "source": [
    "roho800_f_orig = \"/cluster/projects/nn9490k/ROHO800/STORAGE/ROHO800_hindcast_2007_2019_v2bn/roho800_v2bn_his/*his*.nc\"\n",
    "roho800_f =      \"/cluster/projects/nn9297k/shmiak/roho800_data/output_data/forward/1_2017_01_15-2019_01_05_v2bn/*his*.nc\"\n",
    "roho160_f =      \"/cluster/projects/nn9297k/shmiak/roho160_data/1_2017-01-15_to_2019-07-16/*his*.nc\""
   ]
  },
  {
   "cell_type": "code",
   "execution_count": null,
   "metadata": {},
   "outputs": [],
   "source": [
    "roho800_ncs_orig = sorted(glob.glob(roho800_f_orig))\n",
    "roho800_ncs = sorted(glob.glob(roho800_f))\n",
    "roho160_ncs = sorted(glob.glob(roho160_f))"
   ]
  },
  {
   "cell_type": "code",
   "execution_count": null,
   "metadata": {},
   "outputs": [],
   "source": [
    "print(\"First and last files of ROHO800ORIGINAL, since 15-01-2007 to 2019\")\n",
    "print([os.path.basename(item) for item in [roho800_ncs_orig[0], roho800_ncs_orig[-1]]])\n",
    "print(\"First and last files of ROHO800, since 15-01-2017 to 05-01-2019\")\n",
    "print([os.path.basename(item) for item in [roho800_ncs[0], roho800_ncs[-1]]])\n",
    "print(\"First and last files of ROHO160, since 15-01-2017 to 16-07-2019\")\n",
    "print([os.path.basename(item) for item in [roho160_ncs[0], roho160_ncs[-1]]])"
   ]
  },
  {
   "cell_type": "markdown",
   "metadata": {},
   "source": [
    "Find 01-04-2017 to 07-04-2017"
   ]
  },
  {
   "cell_type": "code",
   "execution_count": null,
   "metadata": {},
   "outputs": [],
   "source": [
    "file_number = 532\n",
    "print(roho800_ncs_orig[file_number])\n",
    "xr.open_mfdataset((\n",
    "    roho800_ncs_orig[file_number],\n",
    "    roho800_ncs_orig[file_number+1]\n",
    ")).ocean_time"
   ]
  },
  {
   "cell_type": "code",
   "execution_count": null,
   "metadata": {},
   "outputs": [],
   "source": [
    "file_number = 7\n",
    "print(roho800_ncs[file_number])\n",
    "xr.open_mfdataset((\n",
    "    roho800_ncs[file_number],\n",
    "    roho800_ncs[file_number+1]\n",
    ")).ocean_time"
   ]
  },
  {
   "cell_type": "code",
   "execution_count": null,
   "metadata": {},
   "outputs": [],
   "source": [
    "file_number = 7\n",
    "print(roho160_ncs[file_number])\n",
    "xr.open_mfdataset((\n",
    "    roho160_ncs[file_number],\n",
    "    roho160_ncs[file_number+1]\n",
    ")).ocean_time"
   ]
  },
  {
   "cell_type": "markdown",
   "metadata": {},
   "source": [
    "Find 01-04-2018 to 07-04-2018"
   ]
  },
  {
   "cell_type": "code",
   "execution_count": null,
   "metadata": {},
   "outputs": [],
   "source": [
    "file_number = 584\n",
    "print(roho800_ncs_orig[file_number])\n",
    "xr.open_mfdataset((\n",
    "    roho800_ncs_orig[file_number],\n",
    "    roho800_ncs_orig[file_number+1]\n",
    ")).ocean_time"
   ]
  },
  {
   "cell_type": "code",
   "execution_count": null,
   "metadata": {},
   "outputs": [],
   "source": [
    "file_number = 44\n",
    "print(roho800_ncs[file_number])\n",
    "xr.open_mfdataset((\n",
    "    roho800_ncs[file_number],\n",
    "    # roho800_ncs[file_number+1]\n",
    ")).ocean_time"
   ]
  },
  {
   "cell_type": "code",
   "execution_count": null,
   "metadata": {},
   "outputs": [],
   "source": [
    "file_number = 44\n",
    "print(roho160_ncs[file_number])\n",
    "xr.open_mfdataset((\n",
    "    roho160_ncs[file_number],\n",
    "    # roho160_ncs[file_number+1]\n",
    ")).ocean_time"
   ]
  },
  {
   "cell_type": "markdown",
   "metadata": {},
   "source": [
    "Find 01-04-2019 to 07-04-2019"
   ]
  },
  {
   "cell_type": "code",
   "execution_count": null,
   "metadata": {},
   "outputs": [],
   "source": [
    "file_number = 636\n",
    "print(roho800_ncs_orig[file_number])\n",
    "xr.open_mfdataset((\n",
    "    roho800_ncs_orig[file_number],\n",
    "    roho800_ncs_orig[file_number+1]\n",
    ")).ocean_time"
   ]
  },
  {
   "cell_type": "code",
   "execution_count": null,
   "metadata": {},
   "outputs": [],
   "source": [
    "file_number = 71\n",
    "print(roho800_ncs[file_number])\n",
    "xr.open_mfdataset((\n",
    "    roho800_ncs[file_number],\n",
    "    # roho800_ncs[file_number+1]\n",
    ")).ocean_time"
   ]
  },
  {
   "cell_type": "code",
   "execution_count": null,
   "metadata": {},
   "outputs": [],
   "source": [
    "file_number = 44\n",
    "print(roho160_ncs[file_number])\n",
    "xr.open_mfdataset((\n",
    "    roho160_ncs[file_number],\n",
    "    # roho160_ncs[file_number+1]\n",
    ")).ocean_time"
   ]
  }
 ],
 "metadata": {
  "kernelspec": {
   "display_name": "ocean",
   "language": "python",
   "name": "python3"
  },
  "language_info": {
   "codemirror_mode": {
    "name": "ipython",
    "version": 3
   },
   "file_extension": ".py",
   "mimetype": "text/x-python",
   "name": "python",
   "nbconvert_exporter": "python",
   "pygments_lexer": "ipython3",
   "version": "3.10.9"
  }
 },
 "nbformat": 4,
 "nbformat_minor": 2
}
