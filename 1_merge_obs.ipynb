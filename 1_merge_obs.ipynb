{
 "cells": [
  {
   "cell_type": "code",
   "execution_count": null,
   "metadata": {},
   "outputs": [],
   "source": [
    "from dataclasses import dataclass\n",
    "\n",
    "import xarray as xr"
   ]
  },
  {
   "cell_type": "code",
   "execution_count": null,
   "metadata": {},
   "outputs": [],
   "source": [
    "@dataclass\n",
    "class InputData:\n",
    "    temp_prenaut: str = '/cluster/projects/nn9297k/shmiak/roho800_data/input_data/obs_i4dvar_4st_temp_2017-02-01_to_2017-03-15.nc'\n",
    "    salt_prenaut: str = '/cluster/projects/nn9297k/shmiak/roho800_data/input_data/obs_i4dvar_4st_salt_2017-02-01_to_2017-03-15.nc'\n",
    "    temp_postnaut_farms: str = '/cluster/projects/nn9297k/mib/naut_post_obs/fish_farm_temp.nc'\n",
    "    salt_postnaut_farms: str = '/cluster/projects/nn9297k/mib/naut_post_obs/fish_farm_salt.nc'\n",
    "    temp_postnaut_ferry: str = '/cluster/projects/nn9297k/mib/naut_post_obs/ferry_temp.nc'\n",
    "    salt_postnaut_ferry: str = '/cluster/projects/nn9297k/mib/naut_post_obs/ferry_salt.nc'\n",
    "    file_output_prenaut = '/cluster/projects/nn9297k/shmiak/roho800_data/input_data/obs_i4dvar_4st_temp_salt_2017-02-01_to_2017-03-15.nc'\n",
    "    file_output_postnaut_farms = '/cluster/projects/nn9297k/shmiak/roho800_data/input_data/obs_i4dvar_farms_temp_salt_2017-02-01_to_2017-03-15.nc'\n",
    "    file_output_postnaut_ferry = '/cluster/projects/nn9297k/shmiak/roho800_data/input_data/obs_i4dvar_ferry_temp_salt_2017-02-01_to_2017-03-15.nc'\n",
    "    file_output_postnaut = '/cluster/projects/nn9297k/shmiak/roho800_data/input_data/obs_i4dvar_farms_ferry_temp_salt_2017-02-01_to_2017-03-15.nc'"
   ]
  },
  {
   "cell_type": "code",
   "execution_count": null,
   "metadata": {},
   "outputs": [],
   "source": [
    "input_data = InputData\n",
    "file_output = input_data.file_output_postnaut_farms\n",
    "ds_temp = xr.open_dataset(input_data.temp_postnaut_farms)\n",
    "ds_salt = xr.open_dataset(input_data.salt_postnaut_farms)"
   ]
  },
  {
   "cell_type": "code",
   "execution_count": null,
   "metadata": {},
   "outputs": [],
   "source": [
    "ds = xr.concat([ds_temp, ds_salt], dim='datum', data_vars='minimal').sortby('obs_time')"
   ]
  },
  {
   "cell_type": "code",
   "execution_count": null,
   "metadata": {},
   "outputs": [],
   "source": [
    "ds['Nobs'].values = (ds_temp.Nobs.values + ds_salt.Nobs.values)"
   ]
  },
  {
   "cell_type": "code",
   "execution_count": null,
   "metadata": {},
   "outputs": [],
   "source": [
    "ds.obs_time.plot()"
   ]
  },
  {
   "cell_type": "code",
   "execution_count": null,
   "metadata": {},
   "outputs": [],
   "source": [
    "ds.obs_value.plot()"
   ]
  },
  {
   "cell_type": "code",
   "execution_count": null,
   "metadata": {},
   "outputs": [],
   "source": [
    "ds"
   ]
  },
  {
   "cell_type": "markdown",
   "metadata": {},
   "source": [
    "According to my experiments it is crucial to put time units with a time reference 'days since ...'"
   ]
  },
  {
   "cell_type": "code",
   "execution_count": null,
   "metadata": {},
   "outputs": [],
   "source": [
    "ds.to_netcdf(\n",
    "    file_output,\n",
    "    encoding={\n",
    "        'survey_time':{'units': \"days since 1948-01-01\"},\n",
    "        'obs_time':{'units': \"days since 1948-01-01\"},\n",
    "        }\n",
    "    )"
   ]
  },
  {
   "cell_type": "code",
   "execution_count": null,
   "metadata": {},
   "outputs": [],
   "source": []
  }
 ],
 "metadata": {
  "kernelspec": {
   "display_name": "ocean",
   "language": "python",
   "name": "python3"
  },
  "language_info": {
   "codemirror_mode": {
    "name": "ipython",
    "version": 3
   },
   "file_extension": ".py",
   "mimetype": "text/x-python",
   "name": "python",
   "nbconvert_exporter": "python",
   "pygments_lexer": "ipython3",
   "version": "3.10.9"
  },
  "orig_nbformat": 4
 },
 "nbformat": 4,
 "nbformat_minor": 2
}
