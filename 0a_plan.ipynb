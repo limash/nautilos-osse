{
 "cells": [
  {
   "cell_type": "markdown",
   "metadata": {},
   "source": [
    "0. Preparation: We need to prepare 3 models (**DONE**):\n",
    "- ROHO800ORIGINAL, which was validated and tested - it is the forecasting model.\n",
    "Why use this model for forecasting - this model is coupled with ERSEM.\n",
    "- ROHO800 to perform data assimilation. \n",
    "I had a lot of issues with the ROHO800ORIGINAL - with netcdf MPI output, data assimilation setup.\n",
    "Also there were some fixes in i4dvar and rivers processing ROMS code since ROHO800ORIGINAL.\n",
    "So I took a much newer ROMS version (spring 2023).\n",
    "This model is used for OSSE.\n",
    "This model is not coupled with ERSEM.\n",
    "- ROHO160 - the nature run.\n",
    "It uses the same version as ROHO800.\n",
    "This model is not coupled with ERSEM.\n",
    "\n",
    "Currently I use the original Phils ouput for ROHO800ORIGINAL;\n",
    "ROHO800 init is based on the ROHO800ORIGINAL output from the avg_0131_v2bn file.\n",
    "ROHO160 init is from the 15.01.2018 of the previous ROHO160 run.\n",
    "\n",
    "(**TODO**): Interpolate the ROHO160 initial conditions to the 800 grid.\n",
    "Relaunch models with new initial conditions for the same periods.\n",
    "Get the 'bio nature run' running ROHO800ORIGINAL with new initial conditions from ROHO160 every 3 days.\n",
    "\n",
    "The model setups to prepare:\n",
    "- ROHO800ORIGINAL_base with initial conditions from ROHO160 - the forecasting model\n",
    "- ROHO800ORIGINAL_bio with initial conditions from ROHO160 with new physics initial conditions from ROHO160 every 3 days\n",
    "and biogeo initial conditions from the previous period output - the nature run biogeochemistry model.\n",
    "- ROHO800 - data assimilation model (**DONE**)\n",
    "- ROHO160 - the physics nature run model (**DONE**)\n",
    "\n",
    "Launch all models from 15.01.2017 to summer of 2019.\n",
    "It should include 3 springs.\n",
    "- Period 1: 01.02.2017 - 01.05.2017; \n",
    "- Period 2: 01.02.2018 - 01.05.2018; \n",
    "- Period 3: 01.02.2019 - 01.05.2019; \n",
    "\n",
    "1. Model comparison without data assimilation.\n",
    "Extract data and calculate metrics between ROHO800ORIGINAL and ROHO160 for 3 periods. \n",
    "Model setup pairs to compare:\n",
    "- ROHO800ORIGINAL_base vs ROHO160 for physics  \n",
    "- ROHO800ORIGINAL_base vs ROHO800ORIGINAL_bio for biogeochemistry\n",
    "\n",
    "2. Do pre Nautilos data assimilation runs. \n",
    "Use data from 4 stations in the Hardangerfjord.\n",
    "Relaunch ROHO800ORIGINAL_base with initial conditions from ROHO800 data assimilation every 3 days.\n",
    "Model setup pairs to compare:\n",
    "- ROHO800ORIGINAL_base (after 4 stations da initial conditions) vs ROHO160 for physics  \n",
    "- ROHO800ORIGINAL_base (after 4 stations da initial conditions) vs ROHO800ORIGINAL_bio for biogeochemistry\n",
    "\n",
    "3. post Nautilos runs. Need to choose the station positions.\n"
   ]
  },
  {
   "cell_type": "markdown",
   "metadata": {},
   "source": []
  }
 ],
 "metadata": {
  "language_info": {
   "name": "python"
  }
 },
 "nbformat": 4,
 "nbformat_minor": 2
}
