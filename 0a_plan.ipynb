{
 "cells": [
  {
   "cell_type": "markdown",
   "metadata": {},
   "source": [
    "### Preparation\n",
    "We need to prepare 3 models (**DONE**):\n",
    "- ROHO800ORIGINAL, which was validated and tested - it is the forecasting model.\n",
    "Why use this model for forecasting - this model is coupled with ERSEM.\n",
    "- ROHO800 to perform data assimilation. \n",
    "I had a lot of issues with the ROHO800ORIGINAL - with netcdf MPI output, data assimilation setup.\n",
    "Also there were some fixes in i4dvar and rivers processing ROMS code since ROHO800ORIGINAL.\n",
    "So I took a much newer ROMS version (spring 2023).\n",
    "This model is used for OSSE.\n",
    "This model is not coupled with ERSEM.\n",
    "- ROHO160 - the nature run.\n",
    "It uses the same version as ROHO800.\n",
    "This model is not coupled with ERSEM.\n",
    "\n",
    "Currently I use the original Phils ouput for ROHO800ORIGINAL;\n",
    "ROHO800 init is based on the ROHO800ORIGINAL output from the avg_0131_v2bn file.\n",
    "ROHO160 init is from the 15.01.2018 of the previous ROHO160 run.\n",
    "\n",
    "The model setups to prepare:\n",
    "- ROHO800ORIGINAL_bio with initial conditions from ROHO160 with new physics initial conditions from ROHO160 every 3 days\n",
    "and biogeo initial conditions from the previous period output - the nature run biogeochemistry model.\n",
    "- ROHO800 - data assimilation model (**DONE**)\n",
    "- ROHO160 - the physics nature run model (**DONE**)\n",
    "\n",
    "Launch all models from 15.01.2017 to summer of 2019.\n",
    "It should include 3 springs.\n",
    "- Period 1: 01.02.2017 - 01.05.2017; \n",
    "- Period 2: 01.02.2018 - 01.05.2018; \n",
    "- Period 3: 01.02.2019 - 01.05.2019; \n"
   ]
  },
  {
   "cell_type": "markdown",
   "metadata": {},
   "source": [
    "**TODO** ROHO800ORIGINAL_bio plan:\n",
    "- Interpolate the ROHO160 output history files to 800 grid - physics.\n",
    "- Probably also interpolate ROHO160 average files if there are not all parameters in the history files available, if possible.\n",
    "- Use original initial conditions ROHO800ORIGINAL file for general parameters.\n",
    "`/cluster/projects/nn9490k/ROHO800/FORCING/v2/old_vertgrid_pre_v2e/roho800_v2ax_init_physics_NORESMOCv1p2reanal_20070115.nc`\n",
    "- Prepare python script which would use above files and ROMS output for periodic runs."
   ]
  },
  {
   "cell_type": "markdown",
   "metadata": {},
   "source": [
    "### Model comparison without data assimilation\n",
    "Extract data and calculate metrics between ROHO800ORIGINAL and ROHO160 for 3 periods. \n",
    "Model setup pairs to compare:\n",
    "- ROHO800ORIGINAL_base vs ROHO160 for physics  \n",
    "- ROHO800ORIGINAL_base vs ROHO800ORIGINAL_bio for biogeochemistry"
   ]
  },
  {
   "cell_type": "markdown",
   "metadata": {},
   "source": [
    "### Do pre Nautilos data assimilation runs\n",
    "Use data from 4 stations in the Hardangerfjord.\n",
    "Relaunch ROHO800ORIGINAL_base with initial conditions from ROHO800 data assimilation every 3 days.\n",
    "Model setup pairs to compare:\n",
    "- ROHO800ORIGINAL_base (after 4 stations da initial conditions) vs ROHO160 for physics  \n",
    "- ROHO800ORIGINAL_base (after 4 stations da initial conditions) vs ROHO800ORIGINAL_bio for biogeochemistry"
   ]
  },
  {
   "cell_type": "markdown",
   "metadata": {},
   "source": [
    "### Post Nautilos runs\n",
    "\n",
    "Need to choose the station positions."
   ]
  }
 ],
 "metadata": {
  "language_info": {
   "name": "python"
  }
 },
 "nbformat": 4,
 "nbformat_minor": 2
}
