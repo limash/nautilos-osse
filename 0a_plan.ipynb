{
 "cells": [
  {
   "cell_type": "markdown",
   "metadata": {},
   "source": [
    "1. We need to prepare 3 models (**DONE**):\n",
    "- ROHO800ORIGINAL, which was validated and tested - it is the forecasting model.\n",
    "Why use this model for forecasting - this model is coupled with ERSEM.\n",
    "- ROHO800 to perform data assimilation. \n",
    "I had a lot of issues with the ROHO800ORIGINAL - with netcdf MPI output, data assimilation setup.\n",
    "Also there were some fixes in i4dvar and rivers processing ROMS code since ROHO800ORIGINAL.\n",
    "So I took a much newer ROMS version (spring 2023).\n",
    "This model is used for OSSE.\n",
    "This model is not coupled with ERSEM.\n",
    "- ROHO160 - the nature run.\n",
    "It uses the same version as ROHO800.\n",
    "This model is not coupled with ERSEM.\n",
    "\n",
    "Launch all models from 15.01.2017 to summer of 2019 (**DONE**).\n",
    "It should include 3 springs.\n",
    "Probably (**TODO**): Interpolate the ROHO160 initial conditions the 800 grid.\n",
    "Currently I use the original Phils ouput for ROHO800ORIGINAL;\n",
    "ROHO800 init is based on the ROHO800ORIGINAL output from the avg_0131_v2bn file.\n",
    "ROHO160 init is from the 15.01.2018 of the previous ROHO160 run.\n",
    "\n",
    "Extract data and calculate metrics between ROHO800ORIGINAL and ROHO160 from all 3 models for 3 periods: \n",
    "- 01.04.2017 - 07.04.2017; \n",
    "- 01.04.2018 - 07.04.2018; \n",
    "- 01.04.2019 - 07.04.2019; \n",
    "\n",
    "2. Do pre Nautilos data assimilation runs. Use data from 4 stations in the Hardangerfjord.\n",
    "- 01.04.2017 - 07.04.2017; \n",
    "- 01.04.2018 - 07.04.2018; **DONE**\n",
    "- 01.04.2019 - 07.04.2019; \n",
    "\n",
    "3. post Nautilos runs. Need to choose the station positions.\n"
   ]
  },
  {
   "cell_type": "markdown",
   "metadata": {},
   "source": []
  }
 ],
 "metadata": {
  "language_info": {
   "name": "python"
  }
 },
 "nbformat": 4,
 "nbformat_minor": 2
}
