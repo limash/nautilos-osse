{
 "cells": [
  {
   "cell_type": "code",
   "execution_count": null,
   "metadata": {},
   "outputs": [],
   "source": [
    "import xarray as xr\n",
    "import xesmf as xe\n",
    "\n",
    "from arguments import ArgumentsSpring2018"
   ]
  },
  {
   "cell_type": "code",
   "execution_count": null,
   "metadata": {},
   "outputs": [],
   "source": [
    "args = ArgumentsSpring2018()"
   ]
  },
  {
   "cell_type": "code",
   "execution_count": null,
   "metadata": {},
   "outputs": [],
   "source": [
    "time_slice = slice(args.start_time, args.end_time)\n",
    "ds_data = xr.open_mfdataset(list(args.roho160_files)).sel(ocean_time=time_slice)\n",
    "ds_grid = xr.open_dataset(args.input_grid_file)"
   ]
  },
  {
   "cell_type": "markdown",
   "metadata": {},
   "source": [
    "### Interpolate (regrid) temperature from 160 m to 800 m"
   ]
  },
  {
   "cell_type": "markdown",
   "metadata": {},
   "source": [
    "Prepare variables and resample from 160 to 800 meters domain.\n",
    "Description of xesmf is unclear for me, so renaming is to follow the examples\n",
    "at `https://xesmf.readthedocs.io/en/latest/notebooks/Curvilinear_grid.html`."
   ]
  },
  {
   "cell_type": "code",
   "execution_count": null,
   "metadata": {},
   "outputs": [],
   "source": [
    "ds_grid = ds_grid.rename({\"lon_rho\": \"lon\", \"lat_rho\": \"lat\"})\n",
    "ds_data = ds_data.rename({\"lon_rho\": \"lon\", \"lat_rho\": \"lat\"})"
   ]
  },
  {
   "cell_type": "code",
   "execution_count": null,
   "metadata": {},
   "outputs": [],
   "source": [
    "regridder = xe.Regridder(ds_data, ds_grid, \"bilinear\", unmapped_to_nan=True)\n",
    "da_sst = regridder(ds_data['temp']).isel(s_rho=-1)"
   ]
  },
  {
   "cell_type": "markdown",
   "metadata": {},
   "source": [
    "Visual check"
   ]
  },
  {
   "cell_type": "code",
   "execution_count": null,
   "metadata": {},
   "outputs": [],
   "source": [
    "da_sst = da_sst / ds_grid.mask_rho  # type: ignore ; exclude values outside the sea"
   ]
  },
  {
   "cell_type": "code",
   "execution_count": null,
   "metadata": {},
   "outputs": [],
   "source": [
    "ds_data['temp'].isel(ocean_time=-1, s_rho=-1).plot(figsize=(14, 7))  # type: ignore"
   ]
  },
  {
   "cell_type": "code",
   "execution_count": null,
   "metadata": {},
   "outputs": [],
   "source": [
    "da_sst.isel(ocean_time=-1).plot(figsize=(14, 7))  # type: ignore"
   ]
  }
 ],
 "metadata": {
  "kernelspec": {
   "display_name": "ocean",
   "language": "python",
   "name": "python3"
  },
  "language_info": {
   "codemirror_mode": {
    "name": "ipython",
    "version": 3
   },
   "file_extension": ".py",
   "mimetype": "text/x-python",
   "name": "python",
   "nbconvert_exporter": "python",
   "pygments_lexer": "ipython3",
   "version": "3.10.9"
  }
 },
 "nbformat": 4,
 "nbformat_minor": 2
}
