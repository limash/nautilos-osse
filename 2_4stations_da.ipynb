{
 "cells": [
  {
   "cell_type": "code",
   "execution_count": null,
   "metadata": {},
   "outputs": [],
   "source": [
    "import os\n",
    "import glob\n",
    "\n",
    "import xarray as xr"
   ]
  },
  {
   "cell_type": "markdown",
   "metadata": {},
   "source": [
    "Check the output of different Handagerfjord models before data assimilation.\n",
    "There are 3 models:\n",
    "1) ROHO800ORIGINAL - Phils ROHO800. \n",
    "This version is coupled with ERSEM and was validated by Phil.\n",
    "2) ROHO800. \n",
    "It was derived from Phils version and has a very similar configuration for the NLM.\n",
    "But it uses much later version of ROMS.\n",
    "3) ROHO160 - the nature run, it was configured to be as close as possible to the Phils ROHO800 run, but the forcing is different.\n",
    "There is a bug with pressure units in a data yaml file, so the results are very different.\n",
    "It also uses much later version of ROMS."
   ]
  },
  {
   "cell_type": "code",
   "execution_count": null,
   "metadata": {},
   "outputs": [],
   "source": [
    "roho800_f_forward = \"/cluster/projects/nn9297k/shmiak/roho800_data/output_data/4dvar/4st_spring2018/*fwd_outer0*.nc\"\n",
    "roho800_f_da = \"/cluster/projects/nn9297k/shmiak/roho800_data/output_data/4dvar/4st_spring2018/*fwd_outer1*.nc\"\n",
    "roho160_f_old =  \"/cluster/projects/nn9297k/ROHO160+/OutputData/s_layers_25/1_dec2017-dec2018/*his*.nc\""
   ]
  },
  {
   "cell_type": "code",
   "execution_count": null,
   "metadata": {},
   "outputs": [],
   "source": [
    "roho800_ncs_forward = sorted(glob.glob(roho800_f_forward))\n",
    "roho800_ncs_da = sorted(glob.glob(roho800_f_da))\n",
    "roho160_ncs_old = sorted(glob.glob(roho160_f_old))"
   ]
  },
  {
   "cell_type": "code",
   "execution_count": null,
   "metadata": {},
   "outputs": [],
   "source": [
    "print(\"First and last files of ROHO800ORIGINAL, since 15-01-2007 to 2019\")\n",
    "print([os.path.basename(item) for item in [roho800_ncs_forward[0], roho800_ncs_forward[-1]]])\n",
    "print(\"First and last files of ROHO800, since 15-01-2017 to 01-05-2019\")\n",
    "print([os.path.basename(item) for item in [roho800_ncs_da[0], roho800_ncs_da[-1]]])\n",
    "print(\"First and last files of ROHO160 old, since 01-12-2017 to 01-12-2018\")\n",
    "print([os.path.basename(item) for item in [roho160_ncs_old[0], roho160_ncs_old[-1]]])"
   ]
  },
  {
   "cell_type": "markdown",
   "metadata": {},
   "source": [
    "The WP8 and WP9 descriptions suggest to do OSSE in the spring.\n",
    "Extract the first week of April, 2018."
   ]
  },
  {
   "cell_type": "code",
   "execution_count": null,
   "metadata": {},
   "outputs": [],
   "source": [
    "time_slice = slice('2018-04-01', '2018-04-01')"
   ]
  },
  {
   "cell_type": "code",
   "execution_count": null,
   "metadata": {},
   "outputs": [],
   "source": [
    "ds_roho800_forward = xr.open_dataset(roho800_ncs_forward[0]).sel(ocean_time=time_slice)"
   ]
  },
  {
   "cell_type": "code",
   "execution_count": null,
   "metadata": {},
   "outputs": [],
   "source": [
    "ds_roho800_da = xr.open_dataset(roho800_ncs_da[0]).sel(ocean_time=time_slice)"
   ]
  },
  {
   "cell_type": "code",
   "execution_count": null,
   "metadata": {},
   "outputs": [],
   "source": [
    "ds_roho160_old = xr.open_mfdataset((\n",
    "    roho160_ncs_old[10],\n",
    "    roho160_ncs_old[11],\n",
    ")).sel(ocean_time=time_slice)"
   ]
  },
  {
   "cell_type": "markdown",
   "metadata": {},
   "source": [
    "Plot temperature, for example."
   ]
  },
  {
   "cell_type": "code",
   "execution_count": null,
   "metadata": {},
   "outputs": [],
   "source": [
    "variable, ocean_time_i, s_rho_i = 'temp', 0, -1\n",
    "vmin, vmax = 0, 10"
   ]
  },
  {
   "cell_type": "code",
   "execution_count": null,
   "metadata": {},
   "outputs": [],
   "source": [
    "ds_roho800_forward[variable].isel(ocean_time=ocean_time_i, s_rho=s_rho_i).plot.pcolormesh(\n",
    "    x=\"lon_rho\", y=\"lat_rho\", vmin=vmin, vmax=vmax, figsize=(20, 10), cmap='coolwarm'\n",
    ")"
   ]
  },
  {
   "cell_type": "code",
   "execution_count": null,
   "metadata": {},
   "outputs": [],
   "source": [
    "ds_roho800_da[variable].isel(ocean_time=ocean_time_i, s_rho=s_rho_i).plot.pcolormesh(\n",
    "    x=\"lon_rho\", y=\"lat_rho\", vmin=vmin, vmax=vmax, figsize=(20, 10), cmap='coolwarm'\n",
    ")"
   ]
  },
  {
   "cell_type": "code",
   "execution_count": null,
   "metadata": {},
   "outputs": [],
   "source": [
    "ds_roho160_old[variable].isel(ocean_time=ocean_time_i, s_rho=s_rho_i).plot.pcolormesh(\n",
    "    x=\"lon_rho\", y=\"lat_rho\", vmin=vmin, vmax=vmax, figsize=(20, 10), cmap='coolwarm'\n",
    ")"
   ]
  },
  {
   "cell_type": "code",
   "execution_count": null,
   "metadata": {},
   "outputs": [],
   "source": []
  }
 ],
 "metadata": {
  "kernelspec": {
   "display_name": "ocean",
   "language": "python",
   "name": "python3"
  },
  "language_info": {
   "codemirror_mode": {
    "name": "ipython",
    "version": 3
   },
   "file_extension": ".py",
   "mimetype": "text/x-python",
   "name": "python",
   "nbconvert_exporter": "python",
   "pygments_lexer": "ipython3",
   "version": "3.10.9"
  },
  "orig_nbformat": 4
 },
 "nbformat": 4,
 "nbformat_minor": 2
}
