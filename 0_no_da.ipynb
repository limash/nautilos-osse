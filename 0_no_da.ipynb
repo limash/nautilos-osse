{
 "cells": [
  {
   "cell_type": "code",
   "execution_count": null,
   "metadata": {},
   "outputs": [],
   "source": [
    "import os\n",
    "import glob\n",
    "\n",
    "import xarray as xr"
   ]
  },
  {
   "cell_type": "markdown",
   "metadata": {},
   "source": [
    "Check the output of different Handagerfjord models before data assimilation.\n",
    "There are 3 models:\n",
    "1) ROHO800ORIGINAL - Phils ROHO800. \n",
    "This version is coupled with ERSEM and was validated by Phil.\n",
    "2) ROHO800. \n",
    "It was derived from Phils version, but has other advection schemes and lateral boundary condition types.\n",
    "It was the necessary adjustment to enable data assimilation.\n",
    "It uses much later version of ROMS.\n",
    "3) ROHO160 - the nature run, it was configured to be as close as possible to the Phils ROHO800 run, but the forcing is different.\n",
    "It also uses much later version of ROMS."
   ]
  },
  {
   "cell_type": "code",
   "execution_count": null,
   "metadata": {},
   "outputs": [],
   "source": [
    "roho800_f_orig = \"/cluster/projects/nn9490k/ROHO800/STORAGE/ROHO800_hindcast_2007_2019_v2bn/roho800_v2bn_his/*his*.nc\"\n",
    "roho800_f =      \"/cluster/projects/nn9297k/shmiak/roho800_data/output_data/forward/1_2017_01_15-2019_01_05/*his*.nc\"\n",
    "roho800_f_oldh = \"/cluster/projects/nn9297k/shmiak/roho800_data/output_data/forward/0_2007_01_15-2018_10_07_old_h/*his*.nc\"\n",
    "roho160_f =      \"/cluster/projects/nn9297k/shmiak/roho160_data/0_2017-01-15_to_2018_06_05/*his*.nc\"\n",
    "roho160_f_old =  \"/cluster/projects/nn9297k/ROHO160+/OutputData/s_layers_25/1_dec2017-dec2018/*his*.nc\""
   ]
  },
  {
   "cell_type": "code",
   "execution_count": null,
   "metadata": {},
   "outputs": [],
   "source": [
    "roho800_ncs_orig = sorted(glob.glob(roho800_f_orig))\n",
    "roho800_ncs = sorted(glob.glob(roho800_f))\n",
    "roho800_ncs_oldh = sorted(glob.glob(roho800_f_oldh))\n",
    "roho160_ncs = sorted(glob.glob(roho160_f))\n",
    "roho160_ncs_old = sorted(glob.glob(roho160_f_old))"
   ]
  },
  {
   "cell_type": "code",
   "execution_count": null,
   "metadata": {},
   "outputs": [],
   "source": [
    "print(\"First and last files of ROHO800ORIGINAL, since 15-01-2007 to 2019\")\n",
    "print([os.path.basename(item) for item in [roho800_ncs_orig[0], roho800_ncs_orig[-1]]])\n",
    "print(\"First and last files of ROHO800, since 15-01-2017 to 01-05-2019\")\n",
    "print([os.path.basename(item) for item in [roho800_ncs[0], roho800_ncs[-1]]])\n",
    "print(\"First and last files of ROHO800 old h, since 15-01-2007 to 10-07-2018\")\n",
    "print([os.path.basename(item) for item in [roho800_ncs_oldh[0], roho800_ncs_oldh[-1]]])\n",
    "print(\"First and last files of ROHO160, since 15-01-2017 to 05-06-2018\")\n",
    "print([os.path.basename(item) for item in [roho160_ncs[0], roho160_ncs[-1]]])\n",
    "print(\"First and last files of ROHO160 old, since 01-12-2017 to 01-12-2018\")\n",
    "print([os.path.basename(item) for item in [roho160_ncs_old[0], roho160_ncs_old[-1]]])"
   ]
  },
  {
   "cell_type": "markdown",
   "metadata": {},
   "source": [
    "The WP8 and WP9 descriptions suggest to do OSSE in the spring.\n",
    "Extract the first week of April, 2018."
   ]
  },
  {
   "cell_type": "code",
   "execution_count": null,
   "metadata": {},
   "outputs": [],
   "source": [
    "time_slice = slice('2018-04-01', '2018-04-01')"
   ]
  },
  {
   "cell_type": "code",
   "execution_count": null,
   "metadata": {},
   "outputs": [],
   "source": [
    "ds_roho800_orig = xr.open_mfdataset((\n",
    "    roho800_ncs_orig[584],\n",
    "    roho800_ncs_orig[585],\n",
    ")).sel(ocean_time=time_slice)"
   ]
  },
  {
   "cell_type": "code",
   "execution_count": null,
   "metadata": {},
   "outputs": [],
   "source": [
    "ds_roho800 = xr.open_mfdataset((\n",
    "    roho800_ncs[43],\n",
    "    roho800_ncs[44],\n",
    ")).sel(ocean_time=time_slice)"
   ]
  },
  {
   "cell_type": "code",
   "execution_count": null,
   "metadata": {},
   "outputs": [],
   "source": [
    "ds_roho800_oldh = xr.open_mfdataset((\n",
    "    roho800_ncs_oldh[409],\n",
    "    roho800_ncs_oldh[410],\n",
    ")).sel(ocean_time=time_slice)"
   ]
  },
  {
   "cell_type": "code",
   "execution_count": null,
   "metadata": {},
   "outputs": [],
   "source": [
    "ds_roho160 = xr.open_mfdataset((\n",
    "    roho160_ncs[43],\n",
    "    roho160_ncs[44],\n",
    ")).sel(ocean_time=time_slice)"
   ]
  },
  {
   "cell_type": "code",
   "execution_count": null,
   "metadata": {},
   "outputs": [],
   "source": [
    "ds_roho160_old = xr.open_mfdataset((\n",
    "    roho160_ncs_old[10],\n",
    "    roho160_ncs_old[11],\n",
    ")).sel(ocean_time=time_slice)"
   ]
  },
  {
   "cell_type": "markdown",
   "metadata": {},
   "source": [
    "Plot temperature, for example."
   ]
  },
  {
   "cell_type": "code",
   "execution_count": null,
   "metadata": {},
   "outputs": [],
   "source": [
    "variable, ocean_time_i, s_rho_i = 'temp', 0, -1"
   ]
  },
  {
   "cell_type": "code",
   "execution_count": null,
   "metadata": {},
   "outputs": [],
   "source": [
    "ds_roho800_orig[variable].isel(ocean_time=ocean_time_i, s_rho=s_rho_i).plot.pcolormesh(\n",
    "    x=\"lon_rho\", y=\"lat_rho\", vmin=0, vmax=10, figsize=(20, 10), cmap='coolwarm'\n",
    ")"
   ]
  },
  {
   "cell_type": "code",
   "execution_count": null,
   "metadata": {},
   "outputs": [],
   "source": [
    "ds_roho800[variable].isel(ocean_time=ocean_time_i, s_rho=s_rho_i).plot.pcolormesh(\n",
    "    x=\"lon_rho\", y=\"lat_rho\", vmin=0, vmax=10, figsize=(20, 10), cmap='coolwarm'\n",
    ")"
   ]
  },
  {
   "cell_type": "code",
   "execution_count": null,
   "metadata": {},
   "outputs": [],
   "source": [
    "ds_roho800_oldh[variable].isel(ocean_time=ocean_time_i, s_rho=s_rho_i).plot.pcolormesh(\n",
    "    x=\"lon_rho\", y=\"lat_rho\", vmin=0, vmax=10, figsize=(20, 10), cmap='coolwarm'\n",
    ")"
   ]
  },
  {
   "cell_type": "code",
   "execution_count": null,
   "metadata": {},
   "outputs": [],
   "source": [
    "ds_roho160[variable].isel(ocean_time=ocean_time_i, s_rho=s_rho_i).plot.pcolormesh(\n",
    "    x=\"lon_rho\", y=\"lat_rho\", vmin=0, vmax=10, figsize=(20, 10), cmap='coolwarm'\n",
    ")"
   ]
  },
  {
   "cell_type": "code",
   "execution_count": null,
   "metadata": {},
   "outputs": [],
   "source": [
    "ds_roho160_old[variable].isel(ocean_time=ocean_time_i, s_rho=s_rho_i).plot.pcolormesh(\n",
    "    x=\"lon_rho\", y=\"lat_rho\", vmin=0, vmax=10, figsize=(20, 10), cmap='coolwarm'\n",
    ")"
   ]
  },
  {
   "cell_type": "code",
   "execution_count": null,
   "metadata": {},
   "outputs": [],
   "source": []
  }
 ],
 "metadata": {
  "kernelspec": {
   "display_name": "ocean",
   "language": "python",
   "name": "python3"
  },
  "language_info": {
   "codemirror_mode": {
    "name": "ipython",
    "version": 3
   },
   "file_extension": ".py",
   "mimetype": "text/x-python",
   "name": "python",
   "nbconvert_exporter": "python",
   "pygments_lexer": "ipython3",
   "version": "3.10.9"
  },
  "orig_nbformat": 4
 },
 "nbformat": 4,
 "nbformat_minor": 2
}
